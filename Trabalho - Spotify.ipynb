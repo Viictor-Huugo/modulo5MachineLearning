{
 "cells": [
  {
   "cell_type": "markdown",
   "id": "36943507",
   "metadata": {},
   "source": [
    "# Polo Tech - ADA\n",
    "# Módulo IV - Machine Learning\n",
    "\n",
    "\n",
    "### 31/03/23\n",
    "### Integrantes: Victor Hugo Chagas, Artur Amaral, Leandro Lima"
   ]
  },
  {
   "cell_type": "markdown",
   "id": "7cf88152",
   "metadata": {},
   "source": [
    "# Predição de Popularidade Musical - Spotify "
   ]
  },
  {
   "cell_type": "markdown",
   "id": "27e91219",
   "metadata": {},
   "source": [
    "![Gato fofo](imagens/FestivalSpotify.jpg)\n"
   ]
  },
  {
   "cell_type": "markdown",
   "id": "40923e77",
   "metadata": {},
   "source": [
    "### Link: https://www.kaggle.com/datasets/ektanegi/spotifydata-19212020"
   ]
  },
  {
   "cell_type": "markdown",
   "id": "4cdf326a",
   "metadata": {},
   "source": [
    "## Qual o motivo desse dataset? Como ele pode ser aplicado ao mercado? "
   ]
  },
  {
   "cell_type": "code",
   "execution_count": 3,
   "id": "7d874bf6",
   "metadata": {},
   "outputs": [],
   "source": [
    "import pandas as pd\n",
    "import numpy as np\n",
    "import seaborn as sns\n",
    "import matplotlib.pyplot as plt\n",
    "from sklearn.model_selection import train_test_split\n",
    "from sklearn.linear_model import LinearRegression\n",
    "from sklearn.metrics import r2_score, mean_squared_error, mean_squared_error\n"
   ]
  },
  {
   "cell_type": "code",
   "execution_count": 4,
   "id": "cdb43904",
   "metadata": {},
   "outputs": [],
   "source": [
    "df = pd.read_csv('data.csv')"
   ]
  },
  {
   "cell_type": "markdown",
   "id": "5cf7683d",
   "metadata": {},
   "source": [
    "## 1. Analisar o formato do dataset "
   ]
  },
  {
   "cell_type": "code",
   "execution_count": 5,
   "id": "672a6381",
   "metadata": {},
   "outputs": [
    {
     "data": {
      "text/plain": [
       "(169909, 19)"
      ]
     },
     "execution_count": 5,
     "metadata": {},
     "output_type": "execute_result"
    }
   ],
   "source": [
    "df.shape"
   ]
  },
  {
   "cell_type": "code",
   "execution_count": 6,
   "id": "d74d7d34",
   "metadata": {},
   "outputs": [
    {
     "name": "stdout",
     "output_type": "stream",
     "text": [
      "<class 'pandas.core.frame.DataFrame'>\n",
      "RangeIndex: 169909 entries, 0 to 169908\n",
      "Data columns (total 19 columns):\n",
      " #   Column            Non-Null Count   Dtype  \n",
      "---  ------            --------------   -----  \n",
      " 0   acousticness      169909 non-null  float64\n",
      " 1   artists           169909 non-null  object \n",
      " 2   danceability      169909 non-null  float64\n",
      " 3   duration_ms       169909 non-null  int64  \n",
      " 4   energy            169909 non-null  float64\n",
      " 5   explicit          169909 non-null  int64  \n",
      " 6   id                169909 non-null  object \n",
      " 7   instrumentalness  169909 non-null  float64\n",
      " 8   key               169909 non-null  int64  \n",
      " 9   liveness          169909 non-null  float64\n",
      " 10  loudness          169909 non-null  float64\n",
      " 11  mode              169909 non-null  int64  \n",
      " 12  name              169909 non-null  object \n",
      " 13  popularity        169909 non-null  int64  \n",
      " 14  release_date      169909 non-null  object \n",
      " 15  speechiness       169909 non-null  float64\n",
      " 16  tempo             169909 non-null  float64\n",
      " 17  valence           169909 non-null  float64\n",
      " 18  year              169909 non-null  int64  \n",
      "dtypes: float64(9), int64(6), object(4)\n",
      "memory usage: 24.6+ MB\n"
     ]
    }
   ],
   "source": [
    "df.info()"
   ]
  },
  {
   "cell_type": "code",
   "execution_count": 7,
   "id": "6c967708",
   "metadata": {},
   "outputs": [
    {
     "data": {
      "text/plain": [
       "count    169909.000000\n",
       "mean         31.556610\n",
       "std          21.582614\n",
       "min           0.000000\n",
       "25%          12.000000\n",
       "50%          33.000000\n",
       "75%          48.000000\n",
       "max         100.000000\n",
       "Name: popularity, dtype: float64"
      ]
     },
     "execution_count": 7,
     "metadata": {},
     "output_type": "execute_result"
    }
   ],
   "source": [
    "df['popularity'].describe()"
   ]
  },
  {
   "cell_type": "code",
   "execution_count": 8,
   "id": "ef668411",
   "metadata": {},
   "outputs": [
    {
     "data": {
      "text/html": [
       "<div>\n",
       "<style scoped>\n",
       "    .dataframe tbody tr th:only-of-type {\n",
       "        vertical-align: middle;\n",
       "    }\n",
       "\n",
       "    .dataframe tbody tr th {\n",
       "        vertical-align: top;\n",
       "    }\n",
       "\n",
       "    .dataframe thead th {\n",
       "        text-align: right;\n",
       "    }\n",
       "</style>\n",
       "<table border=\"1\" class=\"dataframe\">\n",
       "  <thead>\n",
       "    <tr style=\"text-align: right;\">\n",
       "      <th></th>\n",
       "      <th>acousticness</th>\n",
       "      <th>artists</th>\n",
       "      <th>danceability</th>\n",
       "      <th>duration_ms</th>\n",
       "      <th>energy</th>\n",
       "      <th>explicit</th>\n",
       "      <th>id</th>\n",
       "      <th>instrumentalness</th>\n",
       "      <th>key</th>\n",
       "      <th>liveness</th>\n",
       "      <th>loudness</th>\n",
       "      <th>mode</th>\n",
       "      <th>name</th>\n",
       "      <th>popularity</th>\n",
       "      <th>release_date</th>\n",
       "      <th>speechiness</th>\n",
       "      <th>tempo</th>\n",
       "      <th>valence</th>\n",
       "      <th>year</th>\n",
       "    </tr>\n",
       "  </thead>\n",
       "  <tbody>\n",
       "    <tr>\n",
       "      <th>0</th>\n",
       "      <td>0.995</td>\n",
       "      <td>['Carl Woitschach']</td>\n",
       "      <td>0.708</td>\n",
       "      <td>158648</td>\n",
       "      <td>0.1950</td>\n",
       "      <td>0</td>\n",
       "      <td>6KbQ3uYMLKb5jDxLF7wYDD</td>\n",
       "      <td>0.563</td>\n",
       "      <td>10</td>\n",
       "      <td>0.1510</td>\n",
       "      <td>-12.428</td>\n",
       "      <td>1</td>\n",
       "      <td>Singende Bataillone 1. Teil</td>\n",
       "      <td>0</td>\n",
       "      <td>1928</td>\n",
       "      <td>0.0506</td>\n",
       "      <td>118.469</td>\n",
       "      <td>0.7790</td>\n",
       "      <td>1928</td>\n",
       "    </tr>\n",
       "    <tr>\n",
       "      <th>1</th>\n",
       "      <td>0.994</td>\n",
       "      <td>['Robert Schumann', 'Vladimir Horowitz']</td>\n",
       "      <td>0.379</td>\n",
       "      <td>282133</td>\n",
       "      <td>0.0135</td>\n",
       "      <td>0</td>\n",
       "      <td>6KuQTIu1KoTTkLXKrwlLPV</td>\n",
       "      <td>0.901</td>\n",
       "      <td>8</td>\n",
       "      <td>0.0763</td>\n",
       "      <td>-28.454</td>\n",
       "      <td>1</td>\n",
       "      <td>Fantasiestücke, Op. 111: Più tosto lento</td>\n",
       "      <td>0</td>\n",
       "      <td>1928</td>\n",
       "      <td>0.0462</td>\n",
       "      <td>83.972</td>\n",
       "      <td>0.0767</td>\n",
       "      <td>1928</td>\n",
       "    </tr>\n",
       "    <tr>\n",
       "      <th>2</th>\n",
       "      <td>0.604</td>\n",
       "      <td>['Seweryn Goszczyński']</td>\n",
       "      <td>0.749</td>\n",
       "      <td>104300</td>\n",
       "      <td>0.2200</td>\n",
       "      <td>0</td>\n",
       "      <td>6L63VW0PibdM1HDSBoqnoM</td>\n",
       "      <td>0.000</td>\n",
       "      <td>5</td>\n",
       "      <td>0.1190</td>\n",
       "      <td>-19.924</td>\n",
       "      <td>0</td>\n",
       "      <td>Chapter 1.18 - Zamek kaniowski</td>\n",
       "      <td>0</td>\n",
       "      <td>1928</td>\n",
       "      <td>0.9290</td>\n",
       "      <td>107.177</td>\n",
       "      <td>0.8800</td>\n",
       "      <td>1928</td>\n",
       "    </tr>\n",
       "    <tr>\n",
       "      <th>3</th>\n",
       "      <td>0.995</td>\n",
       "      <td>['Francisco Canaro']</td>\n",
       "      <td>0.781</td>\n",
       "      <td>180760</td>\n",
       "      <td>0.1300</td>\n",
       "      <td>0</td>\n",
       "      <td>6M94FkXd15sOAOQYRnWPN8</td>\n",
       "      <td>0.887</td>\n",
       "      <td>1</td>\n",
       "      <td>0.1110</td>\n",
       "      <td>-14.734</td>\n",
       "      <td>0</td>\n",
       "      <td>Bebamos Juntos - Instrumental (Remasterizado)</td>\n",
       "      <td>0</td>\n",
       "      <td>1928-09-25</td>\n",
       "      <td>0.0926</td>\n",
       "      <td>108.003</td>\n",
       "      <td>0.7200</td>\n",
       "      <td>1928</td>\n",
       "    </tr>\n",
       "    <tr>\n",
       "      <th>4</th>\n",
       "      <td>0.990</td>\n",
       "      <td>['Frédéric Chopin', 'Vladimir Horowitz']</td>\n",
       "      <td>0.210</td>\n",
       "      <td>687733</td>\n",
       "      <td>0.2040</td>\n",
       "      <td>0</td>\n",
       "      <td>6N6tiFZ9vLTSOIxkj8qKrd</td>\n",
       "      <td>0.908</td>\n",
       "      <td>11</td>\n",
       "      <td>0.0980</td>\n",
       "      <td>-16.829</td>\n",
       "      <td>1</td>\n",
       "      <td>Polonaise-Fantaisie in A-Flat Major, Op. 61</td>\n",
       "      <td>1</td>\n",
       "      <td>1928</td>\n",
       "      <td>0.0424</td>\n",
       "      <td>62.149</td>\n",
       "      <td>0.0693</td>\n",
       "      <td>1928</td>\n",
       "    </tr>\n",
       "  </tbody>\n",
       "</table>\n",
       "</div>"
      ],
      "text/plain": [
       "   acousticness                                   artists  danceability  \\\n",
       "0         0.995                       ['Carl Woitschach']         0.708   \n",
       "1         0.994  ['Robert Schumann', 'Vladimir Horowitz']         0.379   \n",
       "2         0.604                   ['Seweryn Goszczyński']         0.749   \n",
       "3         0.995                      ['Francisco Canaro']         0.781   \n",
       "4         0.990  ['Frédéric Chopin', 'Vladimir Horowitz']         0.210   \n",
       "\n",
       "   duration_ms  energy  explicit                      id  instrumentalness  \\\n",
       "0       158648  0.1950         0  6KbQ3uYMLKb5jDxLF7wYDD             0.563   \n",
       "1       282133  0.0135         0  6KuQTIu1KoTTkLXKrwlLPV             0.901   \n",
       "2       104300  0.2200         0  6L63VW0PibdM1HDSBoqnoM             0.000   \n",
       "3       180760  0.1300         0  6M94FkXd15sOAOQYRnWPN8             0.887   \n",
       "4       687733  0.2040         0  6N6tiFZ9vLTSOIxkj8qKrd             0.908   \n",
       "\n",
       "   key  liveness  loudness  mode  \\\n",
       "0   10    0.1510   -12.428     1   \n",
       "1    8    0.0763   -28.454     1   \n",
       "2    5    0.1190   -19.924     0   \n",
       "3    1    0.1110   -14.734     0   \n",
       "4   11    0.0980   -16.829     1   \n",
       "\n",
       "                                            name  popularity release_date  \\\n",
       "0                    Singende Bataillone 1. Teil           0         1928   \n",
       "1       Fantasiestücke, Op. 111: Più tosto lento           0         1928   \n",
       "2                 Chapter 1.18 - Zamek kaniowski           0         1928   \n",
       "3  Bebamos Juntos - Instrumental (Remasterizado)           0   1928-09-25   \n",
       "4    Polonaise-Fantaisie in A-Flat Major, Op. 61           1         1928   \n",
       "\n",
       "   speechiness    tempo  valence  year  \n",
       "0       0.0506  118.469   0.7790  1928  \n",
       "1       0.0462   83.972   0.0767  1928  \n",
       "2       0.9290  107.177   0.8800  1928  \n",
       "3       0.0926  108.003   0.7200  1928  \n",
       "4       0.0424   62.149   0.0693  1928  "
      ]
     },
     "execution_count": 8,
     "metadata": {},
     "output_type": "execute_result"
    }
   ],
   "source": [
    "df.head()"
   ]
  },
  {
   "cell_type": "markdown",
   "id": "2f09e7e7",
   "metadata": {},
   "source": [
    "## 2. Redução do dataset devido a prosposta do trabalho.\n",
    "Como estamos querendo desenvolver um modelo para empresas que lidam com shows e festivais, é interessante analisar bandas/artistas que possam ainda estar na ativa e o mesmo princípio para o seu público alvo."
   ]
  },
  {
   "cell_type": "code",
   "execution_count": 12,
   "id": "41e608bd",
   "metadata": {},
   "outputs": [],
   "source": [
    "df_att = df.loc[df['year'] >= 1970, :]"
   ]
  },
  {
   "cell_type": "code",
   "execution_count": 13,
   "id": "17d81198",
   "metadata": {},
   "outputs": [
    {
     "data": {
      "text/plain": [
       "(101656, 19)"
      ]
     },
     "execution_count": 13,
     "metadata": {},
     "output_type": "execute_result"
    }
   ],
   "source": [
    "#Ver o quanto reduziu o df\n",
    "df_att.shape"
   ]
  },
  {
   "cell_type": "code",
   "execution_count": 14,
   "id": "520c47fe",
   "metadata": {},
   "outputs": [
    {
     "data": {
      "text/html": [
       "<div>\n",
       "<style scoped>\n",
       "    .dataframe tbody tr th:only-of-type {\n",
       "        vertical-align: middle;\n",
       "    }\n",
       "\n",
       "    .dataframe tbody tr th {\n",
       "        vertical-align: top;\n",
       "    }\n",
       "\n",
       "    .dataframe thead th {\n",
       "        text-align: right;\n",
       "    }\n",
       "</style>\n",
       "<table border=\"1\" class=\"dataframe\">\n",
       "  <thead>\n",
       "    <tr style=\"text-align: right;\">\n",
       "      <th></th>\n",
       "      <th>acousticness</th>\n",
       "      <th>danceability</th>\n",
       "      <th>duration_ms</th>\n",
       "      <th>energy</th>\n",
       "      <th>explicit</th>\n",
       "      <th>instrumentalness</th>\n",
       "      <th>key</th>\n",
       "      <th>liveness</th>\n",
       "      <th>loudness</th>\n",
       "      <th>mode</th>\n",
       "      <th>popularity</th>\n",
       "      <th>speechiness</th>\n",
       "      <th>tempo</th>\n",
       "      <th>valence</th>\n",
       "      <th>year</th>\n",
       "    </tr>\n",
       "  </thead>\n",
       "  <tbody>\n",
       "    <tr>\n",
       "      <th>acousticness</th>\n",
       "      <td>1.000000</td>\n",
       "      <td>-0.176474</td>\n",
       "      <td>-0.046748</td>\n",
       "      <td>-0.698513</td>\n",
       "      <td>-0.161296</td>\n",
       "      <td>0.199216</td>\n",
       "      <td>-0.027403</td>\n",
       "      <td>-0.063181</td>\n",
       "      <td>-0.548065</td>\n",
       "      <td>0.075345</td>\n",
       "      <td>-0.103692</td>\n",
       "      <td>-0.098337</td>\n",
       "      <td>-0.153134</td>\n",
       "      <td>-0.204133</td>\n",
       "      <td>-0.143276</td>\n",
       "    </tr>\n",
       "    <tr>\n",
       "      <th>danceability</th>\n",
       "      <td>-0.176474</td>\n",
       "      <td>1.000000</td>\n",
       "      <td>-0.112473</td>\n",
       "      <td>0.104001</td>\n",
       "      <td>0.231008</td>\n",
       "      <td>-0.276546</td>\n",
       "      <td>0.028101</td>\n",
       "      <td>-0.139980</td>\n",
       "      <td>0.235774</td>\n",
       "      <td>-0.069890</td>\n",
       "      <td>0.164426</td>\n",
       "      <td>0.193336</td>\n",
       "      <td>-0.122076</td>\n",
       "      <td>0.515564</td>\n",
       "      <td>0.160259</td>\n",
       "    </tr>\n",
       "    <tr>\n",
       "      <th>duration_ms</th>\n",
       "      <td>-0.046748</td>\n",
       "      <td>-0.112473</td>\n",
       "      <td>1.000000</td>\n",
       "      <td>-0.003858</td>\n",
       "      <td>-0.049575</td>\n",
       "      <td>0.105978</td>\n",
       "      <td>0.001698</td>\n",
       "      <td>0.059994</td>\n",
       "      <td>-0.063884</td>\n",
       "      <td>-0.060732</td>\n",
       "      <td>-0.085346</td>\n",
       "      <td>-0.039164</td>\n",
       "      <td>-0.038341</td>\n",
       "      <td>-0.145860</td>\n",
       "      <td>-0.114609</td>\n",
       "    </tr>\n",
       "    <tr>\n",
       "      <th>energy</th>\n",
       "      <td>-0.698513</td>\n",
       "      <td>0.104001</td>\n",
       "      <td>-0.003858</td>\n",
       "      <td>1.000000</td>\n",
       "      <td>0.119215</td>\n",
       "      <td>-0.199469</td>\n",
       "      <td>0.034020</td>\n",
       "      <td>0.175577</td>\n",
       "      <td>0.747830</td>\n",
       "      <td>-0.067220</td>\n",
       "      <td>0.087105</td>\n",
       "      <td>0.143446</td>\n",
       "      <td>0.201922</td>\n",
       "      <td>0.320899</td>\n",
       "      <td>0.140571</td>\n",
       "    </tr>\n",
       "    <tr>\n",
       "      <th>explicit</th>\n",
       "      <td>-0.161296</td>\n",
       "      <td>0.231008</td>\n",
       "      <td>-0.049575</td>\n",
       "      <td>0.119215</td>\n",
       "      <td>1.000000</td>\n",
       "      <td>-0.110003</td>\n",
       "      <td>0.010791</td>\n",
       "      <td>0.033524</td>\n",
       "      <td>0.193889</td>\n",
       "      <td>-0.101521</td>\n",
       "      <td>0.255581</td>\n",
       "      <td>0.466648</td>\n",
       "      <td>-0.017211</td>\n",
       "      <td>-0.054854</td>\n",
       "      <td>0.330890</td>\n",
       "    </tr>\n",
       "    <tr>\n",
       "      <th>instrumentalness</th>\n",
       "      <td>0.199216</td>\n",
       "      <td>-0.276546</td>\n",
       "      <td>0.105978</td>\n",
       "      <td>-0.199469</td>\n",
       "      <td>-0.110003</td>\n",
       "      <td>1.000000</td>\n",
       "      <td>-0.014071</td>\n",
       "      <td>-0.026180</td>\n",
       "      <td>-0.399432</td>\n",
       "      <td>-0.033518</td>\n",
       "      <td>-0.102384</td>\n",
       "      <td>-0.105331</td>\n",
       "      <td>-0.071021</td>\n",
       "      <td>-0.217431</td>\n",
       "      <td>-0.082581</td>\n",
       "    </tr>\n",
       "    <tr>\n",
       "      <th>key</th>\n",
       "      <td>-0.027403</td>\n",
       "      <td>0.028101</td>\n",
       "      <td>0.001698</td>\n",
       "      <td>0.034020</td>\n",
       "      <td>0.010791</td>\n",
       "      <td>-0.014071</td>\n",
       "      <td>1.000000</td>\n",
       "      <td>-0.005114</td>\n",
       "      <td>0.024740</td>\n",
       "      <td>-0.145729</td>\n",
       "      <td>0.000243</td>\n",
       "      <td>0.029669</td>\n",
       "      <td>0.002687</td>\n",
       "      <td>0.036164</td>\n",
       "      <td>0.006673</td>\n",
       "    </tr>\n",
       "    <tr>\n",
       "      <th>liveness</th>\n",
       "      <td>-0.063181</td>\n",
       "      <td>-0.139980</td>\n",
       "      <td>0.059994</td>\n",
       "      <td>0.175577</td>\n",
       "      <td>0.033524</td>\n",
       "      <td>-0.026180</td>\n",
       "      <td>-0.005114</td>\n",
       "      <td>1.000000</td>\n",
       "      <td>0.069619</td>\n",
       "      <td>0.008954</td>\n",
       "      <td>-0.088885</td>\n",
       "      <td>0.138432</td>\n",
       "      <td>0.016856</td>\n",
       "      <td>-0.030721</td>\n",
       "      <td>-0.058841</td>\n",
       "    </tr>\n",
       "    <tr>\n",
       "      <th>loudness</th>\n",
       "      <td>-0.548065</td>\n",
       "      <td>0.235774</td>\n",
       "      <td>-0.063884</td>\n",
       "      <td>0.747830</td>\n",
       "      <td>0.193889</td>\n",
       "      <td>-0.399432</td>\n",
       "      <td>0.024740</td>\n",
       "      <td>0.069619</td>\n",
       "      <td>1.000000</td>\n",
       "      <td>-0.042367</td>\n",
       "      <td>0.270392</td>\n",
       "      <td>0.115091</td>\n",
       "      <td>0.164393</td>\n",
       "      <td>0.234166</td>\n",
       "      <td>0.343870</td>\n",
       "    </tr>\n",
       "    <tr>\n",
       "      <th>mode</th>\n",
       "      <td>0.075345</td>\n",
       "      <td>-0.069890</td>\n",
       "      <td>-0.060732</td>\n",
       "      <td>-0.067220</td>\n",
       "      <td>-0.101521</td>\n",
       "      <td>-0.033518</td>\n",
       "      <td>-0.145729</td>\n",
       "      <td>0.008954</td>\n",
       "      <td>-0.042367</td>\n",
       "      <td>1.000000</td>\n",
       "      <td>-0.067510</td>\n",
       "      <td>-0.094163</td>\n",
       "      <td>0.018328</td>\n",
       "      <td>0.006406</td>\n",
       "      <td>-0.071951</td>\n",
       "    </tr>\n",
       "    <tr>\n",
       "      <th>popularity</th>\n",
       "      <td>-0.103692</td>\n",
       "      <td>0.164426</td>\n",
       "      <td>-0.085346</td>\n",
       "      <td>0.087105</td>\n",
       "      <td>0.255581</td>\n",
       "      <td>-0.102384</td>\n",
       "      <td>0.000243</td>\n",
       "      <td>-0.088885</td>\n",
       "      <td>0.270392</td>\n",
       "      <td>-0.067510</td>\n",
       "      <td>1.000000</td>\n",
       "      <td>0.100544</td>\n",
       "      <td>-0.001862</td>\n",
       "      <td>-0.099466</td>\n",
       "      <td>0.673457</td>\n",
       "    </tr>\n",
       "    <tr>\n",
       "      <th>speechiness</th>\n",
       "      <td>-0.098337</td>\n",
       "      <td>0.193336</td>\n",
       "      <td>-0.039164</td>\n",
       "      <td>0.143446</td>\n",
       "      <td>0.466648</td>\n",
       "      <td>-0.105331</td>\n",
       "      <td>0.029669</td>\n",
       "      <td>0.138432</td>\n",
       "      <td>0.115091</td>\n",
       "      <td>-0.094163</td>\n",
       "      <td>0.100544</td>\n",
       "      <td>1.000000</td>\n",
       "      <td>0.028789</td>\n",
       "      <td>0.020588</td>\n",
       "      <td>0.181615</td>\n",
       "    </tr>\n",
       "    <tr>\n",
       "      <th>tempo</th>\n",
       "      <td>-0.153134</td>\n",
       "      <td>-0.122076</td>\n",
       "      <td>-0.038341</td>\n",
       "      <td>0.201922</td>\n",
       "      <td>-0.017211</td>\n",
       "      <td>-0.071021</td>\n",
       "      <td>0.002687</td>\n",
       "      <td>0.016856</td>\n",
       "      <td>0.164393</td>\n",
       "      <td>0.018328</td>\n",
       "      <td>-0.001862</td>\n",
       "      <td>0.028789</td>\n",
       "      <td>1.000000</td>\n",
       "      <td>0.101779</td>\n",
       "      <td>0.006483</td>\n",
       "    </tr>\n",
       "    <tr>\n",
       "      <th>valence</th>\n",
       "      <td>-0.204133</td>\n",
       "      <td>0.515564</td>\n",
       "      <td>-0.145860</td>\n",
       "      <td>0.320899</td>\n",
       "      <td>-0.054854</td>\n",
       "      <td>-0.217431</td>\n",
       "      <td>0.036164</td>\n",
       "      <td>-0.030721</td>\n",
       "      <td>0.234166</td>\n",
       "      <td>0.006406</td>\n",
       "      <td>-0.099466</td>\n",
       "      <td>0.020588</td>\n",
       "      <td>0.101779</td>\n",
       "      <td>1.000000</td>\n",
       "      <td>-0.162732</td>\n",
       "    </tr>\n",
       "    <tr>\n",
       "      <th>year</th>\n",
       "      <td>-0.143276</td>\n",
       "      <td>0.160259</td>\n",
       "      <td>-0.114609</td>\n",
       "      <td>0.140571</td>\n",
       "      <td>0.330890</td>\n",
       "      <td>-0.082581</td>\n",
       "      <td>0.006673</td>\n",
       "      <td>-0.058841</td>\n",
       "      <td>0.343870</td>\n",
       "      <td>-0.071951</td>\n",
       "      <td>0.673457</td>\n",
       "      <td>0.181615</td>\n",
       "      <td>0.006483</td>\n",
       "      <td>-0.162732</td>\n",
       "      <td>1.000000</td>\n",
       "    </tr>\n",
       "  </tbody>\n",
       "</table>\n",
       "</div>"
      ],
      "text/plain": [
       "                  acousticness  danceability  duration_ms    energy  explicit  \\\n",
       "acousticness          1.000000     -0.176474    -0.046748 -0.698513 -0.161296   \n",
       "danceability         -0.176474      1.000000    -0.112473  0.104001  0.231008   \n",
       "duration_ms          -0.046748     -0.112473     1.000000 -0.003858 -0.049575   \n",
       "energy               -0.698513      0.104001    -0.003858  1.000000  0.119215   \n",
       "explicit             -0.161296      0.231008    -0.049575  0.119215  1.000000   \n",
       "instrumentalness      0.199216     -0.276546     0.105978 -0.199469 -0.110003   \n",
       "key                  -0.027403      0.028101     0.001698  0.034020  0.010791   \n",
       "liveness             -0.063181     -0.139980     0.059994  0.175577  0.033524   \n",
       "loudness             -0.548065      0.235774    -0.063884  0.747830  0.193889   \n",
       "mode                  0.075345     -0.069890    -0.060732 -0.067220 -0.101521   \n",
       "popularity           -0.103692      0.164426    -0.085346  0.087105  0.255581   \n",
       "speechiness          -0.098337      0.193336    -0.039164  0.143446  0.466648   \n",
       "tempo                -0.153134     -0.122076    -0.038341  0.201922 -0.017211   \n",
       "valence              -0.204133      0.515564    -0.145860  0.320899 -0.054854   \n",
       "year                 -0.143276      0.160259    -0.114609  0.140571  0.330890   \n",
       "\n",
       "                  instrumentalness       key  liveness  loudness      mode  \\\n",
       "acousticness              0.199216 -0.027403 -0.063181 -0.548065  0.075345   \n",
       "danceability             -0.276546  0.028101 -0.139980  0.235774 -0.069890   \n",
       "duration_ms               0.105978  0.001698  0.059994 -0.063884 -0.060732   \n",
       "energy                   -0.199469  0.034020  0.175577  0.747830 -0.067220   \n",
       "explicit                 -0.110003  0.010791  0.033524  0.193889 -0.101521   \n",
       "instrumentalness          1.000000 -0.014071 -0.026180 -0.399432 -0.033518   \n",
       "key                      -0.014071  1.000000 -0.005114  0.024740 -0.145729   \n",
       "liveness                 -0.026180 -0.005114  1.000000  0.069619  0.008954   \n",
       "loudness                 -0.399432  0.024740  0.069619  1.000000 -0.042367   \n",
       "mode                     -0.033518 -0.145729  0.008954 -0.042367  1.000000   \n",
       "popularity               -0.102384  0.000243 -0.088885  0.270392 -0.067510   \n",
       "speechiness              -0.105331  0.029669  0.138432  0.115091 -0.094163   \n",
       "tempo                    -0.071021  0.002687  0.016856  0.164393  0.018328   \n",
       "valence                  -0.217431  0.036164 -0.030721  0.234166  0.006406   \n",
       "year                     -0.082581  0.006673 -0.058841  0.343870 -0.071951   \n",
       "\n",
       "                  popularity  speechiness     tempo   valence      year  \n",
       "acousticness       -0.103692    -0.098337 -0.153134 -0.204133 -0.143276  \n",
       "danceability        0.164426     0.193336 -0.122076  0.515564  0.160259  \n",
       "duration_ms        -0.085346    -0.039164 -0.038341 -0.145860 -0.114609  \n",
       "energy              0.087105     0.143446  0.201922  0.320899  0.140571  \n",
       "explicit            0.255581     0.466648 -0.017211 -0.054854  0.330890  \n",
       "instrumentalness   -0.102384    -0.105331 -0.071021 -0.217431 -0.082581  \n",
       "key                 0.000243     0.029669  0.002687  0.036164  0.006673  \n",
       "liveness           -0.088885     0.138432  0.016856 -0.030721 -0.058841  \n",
       "loudness            0.270392     0.115091  0.164393  0.234166  0.343870  \n",
       "mode               -0.067510    -0.094163  0.018328  0.006406 -0.071951  \n",
       "popularity          1.000000     0.100544 -0.001862 -0.099466  0.673457  \n",
       "speechiness         0.100544     1.000000  0.028789  0.020588  0.181615  \n",
       "tempo              -0.001862     0.028789  1.000000  0.101779  0.006483  \n",
       "valence            -0.099466     0.020588  0.101779  1.000000 -0.162732  \n",
       "year                0.673457     0.181615  0.006483 -0.162732  1.000000  "
      ]
     },
     "execution_count": 14,
     "metadata": {},
     "output_type": "execute_result"
    }
   ],
   "source": [
    "df_att.corr()"
   ]
  },
  {
   "cell_type": "code",
   "execution_count": 15,
   "id": "cfdde303",
   "metadata": {},
   "outputs": [],
   "source": [
    "# sns.pairplot(df_att2)\n",
    "# plt.show()\n",
    "# Demora pra carregar"
   ]
  },
  {
   "cell_type": "code",
   "execution_count": 16,
   "id": "3391b37d",
   "metadata": {},
   "outputs": [],
   "source": [
    "#'Dropando' colunas  \n",
    "df_att2 = df_att.drop(columns=['acousticness', 'id','mode', 'release_date'], axis=1)"
   ]
  },
  {
   "cell_type": "code",
   "execution_count": 17,
   "id": "e48cc02d",
   "metadata": {},
   "outputs": [
    {
     "data": {
      "text/html": [
       "<div>\n",
       "<style scoped>\n",
       "    .dataframe tbody tr th:only-of-type {\n",
       "        vertical-align: middle;\n",
       "    }\n",
       "\n",
       "    .dataframe tbody tr th {\n",
       "        vertical-align: top;\n",
       "    }\n",
       "\n",
       "    .dataframe thead th {\n",
       "        text-align: right;\n",
       "    }\n",
       "</style>\n",
       "<table border=\"1\" class=\"dataframe\">\n",
       "  <thead>\n",
       "    <tr style=\"text-align: right;\">\n",
       "      <th></th>\n",
       "      <th>artists</th>\n",
       "      <th>danceability</th>\n",
       "      <th>duration_ms</th>\n",
       "      <th>energy</th>\n",
       "      <th>explicit</th>\n",
       "      <th>instrumentalness</th>\n",
       "      <th>key</th>\n",
       "      <th>liveness</th>\n",
       "      <th>loudness</th>\n",
       "      <th>name</th>\n",
       "      <th>popularity</th>\n",
       "      <th>speechiness</th>\n",
       "      <th>tempo</th>\n",
       "      <th>valence</th>\n",
       "      <th>year</th>\n",
       "    </tr>\n",
       "  </thead>\n",
       "  <tbody>\n",
       "    <tr>\n",
       "      <th>3054</th>\n",
       "      <td>['Elton John']</td>\n",
       "      <td>0.436</td>\n",
       "      <td>380667</td>\n",
       "      <td>0.429</td>\n",
       "      <td>0</td>\n",
       "      <td>0.000103</td>\n",
       "      <td>3</td>\n",
       "      <td>0.1040</td>\n",
       "      <td>-10.884</td>\n",
       "      <td>My Father's Gun</td>\n",
       "      <td>29</td>\n",
       "      <td>0.0319</td>\n",
       "      <td>119.025</td>\n",
       "      <td>0.223</td>\n",
       "      <td>1970</td>\n",
       "    </tr>\n",
       "    <tr>\n",
       "      <th>3055</th>\n",
       "      <td>['Three Dog Night']</td>\n",
       "      <td>0.629</td>\n",
       "      <td>166707</td>\n",
       "      <td>0.376</td>\n",
       "      <td>0</td>\n",
       "      <td>0.000000</td>\n",
       "      <td>7</td>\n",
       "      <td>0.2350</td>\n",
       "      <td>-13.934</td>\n",
       "      <td>It Ain't Easy</td>\n",
       "      <td>26</td>\n",
       "      <td>0.0337</td>\n",
       "      <td>76.848</td>\n",
       "      <td>0.347</td>\n",
       "      <td>1970</td>\n",
       "    </tr>\n",
       "    <tr>\n",
       "      <th>3056</th>\n",
       "      <td>['Martha Reeves &amp; The Vandellas']</td>\n",
       "      <td>0.417</td>\n",
       "      <td>176573</td>\n",
       "      <td>0.753</td>\n",
       "      <td>0</td>\n",
       "      <td>0.000000</td>\n",
       "      <td>9</td>\n",
       "      <td>0.2690</td>\n",
       "      <td>-10.204</td>\n",
       "      <td>I Should Be Proud</td>\n",
       "      <td>33</td>\n",
       "      <td>0.1260</td>\n",
       "      <td>178.408</td>\n",
       "      <td>0.794</td>\n",
       "      <td>1970</td>\n",
       "    </tr>\n",
       "    <tr>\n",
       "      <th>3057</th>\n",
       "      <td>['Vashti Bunyan']</td>\n",
       "      <td>0.600</td>\n",
       "      <td>141893</td>\n",
       "      <td>0.107</td>\n",
       "      <td>0</td>\n",
       "      <td>0.011400</td>\n",
       "      <td>0</td>\n",
       "      <td>0.1010</td>\n",
       "      <td>-19.189</td>\n",
       "      <td>Where I Like To Stand</td>\n",
       "      <td>26</td>\n",
       "      <td>0.0525</td>\n",
       "      <td>117.630</td>\n",
       "      <td>0.732</td>\n",
       "      <td>1970</td>\n",
       "    </tr>\n",
       "    <tr>\n",
       "      <th>3058</th>\n",
       "      <td>['Ry Cooder']</td>\n",
       "      <td>0.568</td>\n",
       "      <td>134067</td>\n",
       "      <td>0.434</td>\n",
       "      <td>0</td>\n",
       "      <td>0.626000</td>\n",
       "      <td>7</td>\n",
       "      <td>0.2290</td>\n",
       "      <td>-14.170</td>\n",
       "      <td>Available Space</td>\n",
       "      <td>35</td>\n",
       "      <td>0.0379</td>\n",
       "      <td>147.388</td>\n",
       "      <td>0.694</td>\n",
       "      <td>1970</td>\n",
       "    </tr>\n",
       "    <tr>\n",
       "      <th>...</th>\n",
       "      <td>...</td>\n",
       "      <td>...</td>\n",
       "      <td>...</td>\n",
       "      <td>...</td>\n",
       "      <td>...</td>\n",
       "      <td>...</td>\n",
       "      <td>...</td>\n",
       "      <td>...</td>\n",
       "      <td>...</td>\n",
       "      <td>...</td>\n",
       "      <td>...</td>\n",
       "      <td>...</td>\n",
       "      <td>...</td>\n",
       "      <td>...</td>\n",
       "      <td>...</td>\n",
       "    </tr>\n",
       "    <tr>\n",
       "      <th>169904</th>\n",
       "      <td>['DripReport', 'Tyga']</td>\n",
       "      <td>0.875</td>\n",
       "      <td>163800</td>\n",
       "      <td>0.443</td>\n",
       "      <td>1</td>\n",
       "      <td>0.000032</td>\n",
       "      <td>1</td>\n",
       "      <td>0.0891</td>\n",
       "      <td>-7.461</td>\n",
       "      <td>Skechers (feat. Tyga) - Remix</td>\n",
       "      <td>75</td>\n",
       "      <td>0.1430</td>\n",
       "      <td>100.012</td>\n",
       "      <td>0.306</td>\n",
       "      <td>2020</td>\n",
       "    </tr>\n",
       "    <tr>\n",
       "      <th>169905</th>\n",
       "      <td>['Leon Bridges', 'Terrace Martin']</td>\n",
       "      <td>0.719</td>\n",
       "      <td>167468</td>\n",
       "      <td>0.385</td>\n",
       "      <td>0</td>\n",
       "      <td>0.031300</td>\n",
       "      <td>8</td>\n",
       "      <td>0.1110</td>\n",
       "      <td>-10.907</td>\n",
       "      <td>Sweeter (feat. Terrace Martin)</td>\n",
       "      <td>64</td>\n",
       "      <td>0.0403</td>\n",
       "      <td>128.000</td>\n",
       "      <td>0.270</td>\n",
       "      <td>2020</td>\n",
       "    </tr>\n",
       "    <tr>\n",
       "      <th>169906</th>\n",
       "      <td>['Kygo', 'Oh Wonder']</td>\n",
       "      <td>0.514</td>\n",
       "      <td>180700</td>\n",
       "      <td>0.539</td>\n",
       "      <td>0</td>\n",
       "      <td>0.002330</td>\n",
       "      <td>7</td>\n",
       "      <td>0.1080</td>\n",
       "      <td>-9.332</td>\n",
       "      <td>How Would I Know</td>\n",
       "      <td>70</td>\n",
       "      <td>0.1050</td>\n",
       "      <td>123.700</td>\n",
       "      <td>0.153</td>\n",
       "      <td>2020</td>\n",
       "    </tr>\n",
       "    <tr>\n",
       "      <th>169907</th>\n",
       "      <td>['Cash Cash', 'Andy Grammer']</td>\n",
       "      <td>0.646</td>\n",
       "      <td>167308</td>\n",
       "      <td>0.761</td>\n",
       "      <td>0</td>\n",
       "      <td>0.000000</td>\n",
       "      <td>1</td>\n",
       "      <td>0.2220</td>\n",
       "      <td>-2.557</td>\n",
       "      <td>I Found You</td>\n",
       "      <td>70</td>\n",
       "      <td>0.0385</td>\n",
       "      <td>129.916</td>\n",
       "      <td>0.472</td>\n",
       "      <td>2020</td>\n",
       "    </tr>\n",
       "    <tr>\n",
       "      <th>169908</th>\n",
       "      <td>['Ingrid Andress']</td>\n",
       "      <td>0.512</td>\n",
       "      <td>214787</td>\n",
       "      <td>0.428</td>\n",
       "      <td>0</td>\n",
       "      <td>0.000000</td>\n",
       "      <td>0</td>\n",
       "      <td>0.1050</td>\n",
       "      <td>-7.387</td>\n",
       "      <td>More Hearts Than Mine</td>\n",
       "      <td>65</td>\n",
       "      <td>0.0271</td>\n",
       "      <td>80.588</td>\n",
       "      <td>0.366</td>\n",
       "      <td>2020</td>\n",
       "    </tr>\n",
       "  </tbody>\n",
       "</table>\n",
       "<p>101656 rows × 15 columns</p>\n",
       "</div>"
      ],
      "text/plain": [
       "                                   artists  danceability  duration_ms  energy  \\\n",
       "3054                        ['Elton John']         0.436       380667   0.429   \n",
       "3055                   ['Three Dog Night']         0.629       166707   0.376   \n",
       "3056     ['Martha Reeves & The Vandellas']         0.417       176573   0.753   \n",
       "3057                     ['Vashti Bunyan']         0.600       141893   0.107   \n",
       "3058                         ['Ry Cooder']         0.568       134067   0.434   \n",
       "...                                    ...           ...          ...     ...   \n",
       "169904              ['DripReport', 'Tyga']         0.875       163800   0.443   \n",
       "169905  ['Leon Bridges', 'Terrace Martin']         0.719       167468   0.385   \n",
       "169906               ['Kygo', 'Oh Wonder']         0.514       180700   0.539   \n",
       "169907       ['Cash Cash', 'Andy Grammer']         0.646       167308   0.761   \n",
       "169908                  ['Ingrid Andress']         0.512       214787   0.428   \n",
       "\n",
       "        explicit  instrumentalness  key  liveness  loudness  \\\n",
       "3054           0          0.000103    3    0.1040   -10.884   \n",
       "3055           0          0.000000    7    0.2350   -13.934   \n",
       "3056           0          0.000000    9    0.2690   -10.204   \n",
       "3057           0          0.011400    0    0.1010   -19.189   \n",
       "3058           0          0.626000    7    0.2290   -14.170   \n",
       "...          ...               ...  ...       ...       ...   \n",
       "169904         1          0.000032    1    0.0891    -7.461   \n",
       "169905         0          0.031300    8    0.1110   -10.907   \n",
       "169906         0          0.002330    7    0.1080    -9.332   \n",
       "169907         0          0.000000    1    0.2220    -2.557   \n",
       "169908         0          0.000000    0    0.1050    -7.387   \n",
       "\n",
       "                                  name  popularity  speechiness    tempo  \\\n",
       "3054                   My Father's Gun          29       0.0319  119.025   \n",
       "3055                     It Ain't Easy          26       0.0337   76.848   \n",
       "3056                 I Should Be Proud          33       0.1260  178.408   \n",
       "3057             Where I Like To Stand          26       0.0525  117.630   \n",
       "3058                   Available Space          35       0.0379  147.388   \n",
       "...                                ...         ...          ...      ...   \n",
       "169904   Skechers (feat. Tyga) - Remix          75       0.1430  100.012   \n",
       "169905  Sweeter (feat. Terrace Martin)          64       0.0403  128.000   \n",
       "169906                How Would I Know          70       0.1050  123.700   \n",
       "169907                     I Found You          70       0.0385  129.916   \n",
       "169908           More Hearts Than Mine          65       0.0271   80.588   \n",
       "\n",
       "        valence  year  \n",
       "3054      0.223  1970  \n",
       "3055      0.347  1970  \n",
       "3056      0.794  1970  \n",
       "3057      0.732  1970  \n",
       "3058      0.694  1970  \n",
       "...         ...   ...  \n",
       "169904    0.306  2020  \n",
       "169905    0.270  2020  \n",
       "169906    0.153  2020  \n",
       "169907    0.472  2020  \n",
       "169908    0.366  2020  \n",
       "\n",
       "[101656 rows x 15 columns]"
      ]
     },
     "execution_count": 17,
     "metadata": {},
     "output_type": "execute_result"
    }
   ],
   "source": [
    "df_att2"
   ]
  },
  {
   "cell_type": "markdown",
   "id": "0b791067",
   "metadata": {},
   "source": [
    "## 3. Implementação dos Modelos "
   ]
  },
  {
   "cell_type": "markdown",
   "id": "474341bb",
   "metadata": {},
   "source": [
    "### 3.1.1 Regressão Linear "
   ]
  },
  {
   "cell_type": "code",
   "execution_count": 18,
   "id": "b8efa948",
   "metadata": {},
   "outputs": [],
   "source": [
    "X = df_att2.drop(columns=['popularity','artists', 'name'],  axis=1)\n",
    "y = df_att2['popularity']"
   ]
  },
  {
   "cell_type": "code",
   "execution_count": 19,
   "id": "4005882f",
   "metadata": {},
   "outputs": [],
   "source": [
    "# Separação dos dodos \n",
    "X_train, X_test, y_train, y_test = train_test_split(X, y, train_size=0.8, random_state=42)"
   ]
  },
  {
   "cell_type": "code",
   "execution_count": 21,
   "id": "e6c2ec87",
   "metadata": {},
   "outputs": [
    {
     "data": {
      "text/plain": [
       "LinearRegression()"
      ]
     },
     "execution_count": 21,
     "metadata": {},
     "output_type": "execute_result"
    }
   ],
   "source": [
    "regressao = LinearRegression()\n",
    "regressao.fit(X_train, y_train)"
   ]
  },
  {
   "cell_type": "code",
   "execution_count": 22,
   "id": "570dff2a",
   "metadata": {},
   "outputs": [
    {
     "name": "stdout",
     "output_type": "stream",
     "text": [
      "R2 score: 0.47\n",
      "MSE: 99.26\n"
     ]
    }
   ],
   "source": [
    "y_pred = regressao.predict(X_test)\n",
    "r2 = r2_score(y_test, y_pred)\n",
    "mse = mean_squared_error(y_test, y_pred)\n",
    "print(f\"R2 score: {r2:.2f}\")\n",
    "print(f\"MSE: {mse:.2f}\")\n",
    "\n",
    "# Sem utilizar o normalize\n",
    "# R2 score: 0.46\n",
    "# MSE: 99.27\n",
    "\n",
    "# Com train_size=0.8\n",
    "# R2 score: 0.47\n",
    "# MSE: 99.26"
   ]
  },
  {
   "cell_type": "code",
   "execution_count": 23,
   "id": "788b2b1f",
   "metadata": {},
   "outputs": [],
   "source": [
    "# Pior ainda =x com \n",
    "# regressao = LinearRegression(fit_intercept=False, normalize=True)"
   ]
  },
  {
   "cell_type": "markdown",
   "id": "8c1228ba",
   "metadata": {},
   "source": [
    "### 3.1.2 Regressão Linear - Popularidade Modificada "
   ]
  },
  {
   "cell_type": "code",
   "execution_count": 24,
   "id": "76a56373",
   "metadata": {},
   "outputs": [],
   "source": [
    "def to_binario(popularity):\n",
    "    if popularity >= 50:\n",
    "        return 0\n",
    "    else:\n",
    "        return 1\n",
    "\n",
    "df_att2['popularity_binary'] = df_att2['popularity'].apply(to_binario)\n",
    "df_att3 = df_att2.drop(columns=['popularity'], axis=1)"
   ]
  },
  {
   "cell_type": "code",
   "execution_count": 25,
   "id": "b154d136",
   "metadata": {},
   "outputs": [],
   "source": [
    "df_att2 = df_att2.drop(columns=['popularity_binary'], axis=1)"
   ]
  },
  {
   "cell_type": "code",
   "execution_count": 26,
   "id": "e47bf58b",
   "metadata": {},
   "outputs": [
    {
     "data": {
      "text/html": [
       "<div>\n",
       "<style scoped>\n",
       "    .dataframe tbody tr th:only-of-type {\n",
       "        vertical-align: middle;\n",
       "    }\n",
       "\n",
       "    .dataframe tbody tr th {\n",
       "        vertical-align: top;\n",
       "    }\n",
       "\n",
       "    .dataframe thead th {\n",
       "        text-align: right;\n",
       "    }\n",
       "</style>\n",
       "<table border=\"1\" class=\"dataframe\">\n",
       "  <thead>\n",
       "    <tr style=\"text-align: right;\">\n",
       "      <th></th>\n",
       "      <th>artists</th>\n",
       "      <th>danceability</th>\n",
       "      <th>duration_ms</th>\n",
       "      <th>energy</th>\n",
       "      <th>explicit</th>\n",
       "      <th>instrumentalness</th>\n",
       "      <th>key</th>\n",
       "      <th>liveness</th>\n",
       "      <th>loudness</th>\n",
       "      <th>name</th>\n",
       "      <th>popularity</th>\n",
       "      <th>speechiness</th>\n",
       "      <th>tempo</th>\n",
       "      <th>valence</th>\n",
       "      <th>year</th>\n",
       "    </tr>\n",
       "  </thead>\n",
       "  <tbody>\n",
       "    <tr>\n",
       "      <th>3054</th>\n",
       "      <td>['Elton John']</td>\n",
       "      <td>0.436</td>\n",
       "      <td>380667</td>\n",
       "      <td>0.429</td>\n",
       "      <td>0</td>\n",
       "      <td>0.000103</td>\n",
       "      <td>3</td>\n",
       "      <td>0.104</td>\n",
       "      <td>-10.884</td>\n",
       "      <td>My Father's Gun</td>\n",
       "      <td>29</td>\n",
       "      <td>0.0319</td>\n",
       "      <td>119.025</td>\n",
       "      <td>0.223</td>\n",
       "      <td>1970</td>\n",
       "    </tr>\n",
       "    <tr>\n",
       "      <th>3055</th>\n",
       "      <td>['Three Dog Night']</td>\n",
       "      <td>0.629</td>\n",
       "      <td>166707</td>\n",
       "      <td>0.376</td>\n",
       "      <td>0</td>\n",
       "      <td>0.000000</td>\n",
       "      <td>7</td>\n",
       "      <td>0.235</td>\n",
       "      <td>-13.934</td>\n",
       "      <td>It Ain't Easy</td>\n",
       "      <td>26</td>\n",
       "      <td>0.0337</td>\n",
       "      <td>76.848</td>\n",
       "      <td>0.347</td>\n",
       "      <td>1970</td>\n",
       "    </tr>\n",
       "    <tr>\n",
       "      <th>3056</th>\n",
       "      <td>['Martha Reeves &amp; The Vandellas']</td>\n",
       "      <td>0.417</td>\n",
       "      <td>176573</td>\n",
       "      <td>0.753</td>\n",
       "      <td>0</td>\n",
       "      <td>0.000000</td>\n",
       "      <td>9</td>\n",
       "      <td>0.269</td>\n",
       "      <td>-10.204</td>\n",
       "      <td>I Should Be Proud</td>\n",
       "      <td>33</td>\n",
       "      <td>0.1260</td>\n",
       "      <td>178.408</td>\n",
       "      <td>0.794</td>\n",
       "      <td>1970</td>\n",
       "    </tr>\n",
       "    <tr>\n",
       "      <th>3057</th>\n",
       "      <td>['Vashti Bunyan']</td>\n",
       "      <td>0.600</td>\n",
       "      <td>141893</td>\n",
       "      <td>0.107</td>\n",
       "      <td>0</td>\n",
       "      <td>0.011400</td>\n",
       "      <td>0</td>\n",
       "      <td>0.101</td>\n",
       "      <td>-19.189</td>\n",
       "      <td>Where I Like To Stand</td>\n",
       "      <td>26</td>\n",
       "      <td>0.0525</td>\n",
       "      <td>117.630</td>\n",
       "      <td>0.732</td>\n",
       "      <td>1970</td>\n",
       "    </tr>\n",
       "    <tr>\n",
       "      <th>3058</th>\n",
       "      <td>['Ry Cooder']</td>\n",
       "      <td>0.568</td>\n",
       "      <td>134067</td>\n",
       "      <td>0.434</td>\n",
       "      <td>0</td>\n",
       "      <td>0.626000</td>\n",
       "      <td>7</td>\n",
       "      <td>0.229</td>\n",
       "      <td>-14.170</td>\n",
       "      <td>Available Space</td>\n",
       "      <td>35</td>\n",
       "      <td>0.0379</td>\n",
       "      <td>147.388</td>\n",
       "      <td>0.694</td>\n",
       "      <td>1970</td>\n",
       "    </tr>\n",
       "  </tbody>\n",
       "</table>\n",
       "</div>"
      ],
      "text/plain": [
       "                                artists  danceability  duration_ms  energy  \\\n",
       "3054                     ['Elton John']         0.436       380667   0.429   \n",
       "3055                ['Three Dog Night']         0.629       166707   0.376   \n",
       "3056  ['Martha Reeves & The Vandellas']         0.417       176573   0.753   \n",
       "3057                  ['Vashti Bunyan']         0.600       141893   0.107   \n",
       "3058                      ['Ry Cooder']         0.568       134067   0.434   \n",
       "\n",
       "      explicit  instrumentalness  key  liveness  loudness  \\\n",
       "3054         0          0.000103    3     0.104   -10.884   \n",
       "3055         0          0.000000    7     0.235   -13.934   \n",
       "3056         0          0.000000    9     0.269   -10.204   \n",
       "3057         0          0.011400    0     0.101   -19.189   \n",
       "3058         0          0.626000    7     0.229   -14.170   \n",
       "\n",
       "                       name  popularity  speechiness    tempo  valence  year  \n",
       "3054        My Father's Gun          29       0.0319  119.025    0.223  1970  \n",
       "3055          It Ain't Easy          26       0.0337   76.848    0.347  1970  \n",
       "3056      I Should Be Proud          33       0.1260  178.408    0.794  1970  \n",
       "3057  Where I Like To Stand          26       0.0525  117.630    0.732  1970  \n",
       "3058        Available Space          35       0.0379  147.388    0.694  1970  "
      ]
     },
     "execution_count": 26,
     "metadata": {},
     "output_type": "execute_result"
    }
   ],
   "source": [
    "df_att2.head()"
   ]
  },
  {
   "cell_type": "code",
   "execution_count": 27,
   "id": "4fd5b5d8",
   "metadata": {},
   "outputs": [
    {
     "data": {
      "text/html": [
       "<div>\n",
       "<style scoped>\n",
       "    .dataframe tbody tr th:only-of-type {\n",
       "        vertical-align: middle;\n",
       "    }\n",
       "\n",
       "    .dataframe tbody tr th {\n",
       "        vertical-align: top;\n",
       "    }\n",
       "\n",
       "    .dataframe thead th {\n",
       "        text-align: right;\n",
       "    }\n",
       "</style>\n",
       "<table border=\"1\" class=\"dataframe\">\n",
       "  <thead>\n",
       "    <tr style=\"text-align: right;\">\n",
       "      <th></th>\n",
       "      <th>artists</th>\n",
       "      <th>danceability</th>\n",
       "      <th>duration_ms</th>\n",
       "      <th>energy</th>\n",
       "      <th>explicit</th>\n",
       "      <th>instrumentalness</th>\n",
       "      <th>key</th>\n",
       "      <th>liveness</th>\n",
       "      <th>loudness</th>\n",
       "      <th>name</th>\n",
       "      <th>speechiness</th>\n",
       "      <th>tempo</th>\n",
       "      <th>valence</th>\n",
       "      <th>year</th>\n",
       "      <th>popularity_binary</th>\n",
       "    </tr>\n",
       "  </thead>\n",
       "  <tbody>\n",
       "    <tr>\n",
       "      <th>3054</th>\n",
       "      <td>['Elton John']</td>\n",
       "      <td>0.436</td>\n",
       "      <td>380667</td>\n",
       "      <td>0.429</td>\n",
       "      <td>0</td>\n",
       "      <td>0.000103</td>\n",
       "      <td>3</td>\n",
       "      <td>0.1040</td>\n",
       "      <td>-10.884</td>\n",
       "      <td>My Father's Gun</td>\n",
       "      <td>0.0319</td>\n",
       "      <td>119.025</td>\n",
       "      <td>0.223</td>\n",
       "      <td>1970</td>\n",
       "      <td>1</td>\n",
       "    </tr>\n",
       "    <tr>\n",
       "      <th>3055</th>\n",
       "      <td>['Three Dog Night']</td>\n",
       "      <td>0.629</td>\n",
       "      <td>166707</td>\n",
       "      <td>0.376</td>\n",
       "      <td>0</td>\n",
       "      <td>0.000000</td>\n",
       "      <td>7</td>\n",
       "      <td>0.2350</td>\n",
       "      <td>-13.934</td>\n",
       "      <td>It Ain't Easy</td>\n",
       "      <td>0.0337</td>\n",
       "      <td>76.848</td>\n",
       "      <td>0.347</td>\n",
       "      <td>1970</td>\n",
       "      <td>1</td>\n",
       "    </tr>\n",
       "    <tr>\n",
       "      <th>3056</th>\n",
       "      <td>['Martha Reeves &amp; The Vandellas']</td>\n",
       "      <td>0.417</td>\n",
       "      <td>176573</td>\n",
       "      <td>0.753</td>\n",
       "      <td>0</td>\n",
       "      <td>0.000000</td>\n",
       "      <td>9</td>\n",
       "      <td>0.2690</td>\n",
       "      <td>-10.204</td>\n",
       "      <td>I Should Be Proud</td>\n",
       "      <td>0.1260</td>\n",
       "      <td>178.408</td>\n",
       "      <td>0.794</td>\n",
       "      <td>1970</td>\n",
       "      <td>1</td>\n",
       "    </tr>\n",
       "    <tr>\n",
       "      <th>3057</th>\n",
       "      <td>['Vashti Bunyan']</td>\n",
       "      <td>0.600</td>\n",
       "      <td>141893</td>\n",
       "      <td>0.107</td>\n",
       "      <td>0</td>\n",
       "      <td>0.011400</td>\n",
       "      <td>0</td>\n",
       "      <td>0.1010</td>\n",
       "      <td>-19.189</td>\n",
       "      <td>Where I Like To Stand</td>\n",
       "      <td>0.0525</td>\n",
       "      <td>117.630</td>\n",
       "      <td>0.732</td>\n",
       "      <td>1970</td>\n",
       "      <td>1</td>\n",
       "    </tr>\n",
       "    <tr>\n",
       "      <th>3058</th>\n",
       "      <td>['Ry Cooder']</td>\n",
       "      <td>0.568</td>\n",
       "      <td>134067</td>\n",
       "      <td>0.434</td>\n",
       "      <td>0</td>\n",
       "      <td>0.626000</td>\n",
       "      <td>7</td>\n",
       "      <td>0.2290</td>\n",
       "      <td>-14.170</td>\n",
       "      <td>Available Space</td>\n",
       "      <td>0.0379</td>\n",
       "      <td>147.388</td>\n",
       "      <td>0.694</td>\n",
       "      <td>1970</td>\n",
       "      <td>1</td>\n",
       "    </tr>\n",
       "    <tr>\n",
       "      <th>...</th>\n",
       "      <td>...</td>\n",
       "      <td>...</td>\n",
       "      <td>...</td>\n",
       "      <td>...</td>\n",
       "      <td>...</td>\n",
       "      <td>...</td>\n",
       "      <td>...</td>\n",
       "      <td>...</td>\n",
       "      <td>...</td>\n",
       "      <td>...</td>\n",
       "      <td>...</td>\n",
       "      <td>...</td>\n",
       "      <td>...</td>\n",
       "      <td>...</td>\n",
       "      <td>...</td>\n",
       "    </tr>\n",
       "    <tr>\n",
       "      <th>169904</th>\n",
       "      <td>['DripReport', 'Tyga']</td>\n",
       "      <td>0.875</td>\n",
       "      <td>163800</td>\n",
       "      <td>0.443</td>\n",
       "      <td>1</td>\n",
       "      <td>0.000032</td>\n",
       "      <td>1</td>\n",
       "      <td>0.0891</td>\n",
       "      <td>-7.461</td>\n",
       "      <td>Skechers (feat. Tyga) - Remix</td>\n",
       "      <td>0.1430</td>\n",
       "      <td>100.012</td>\n",
       "      <td>0.306</td>\n",
       "      <td>2020</td>\n",
       "      <td>0</td>\n",
       "    </tr>\n",
       "    <tr>\n",
       "      <th>169905</th>\n",
       "      <td>['Leon Bridges', 'Terrace Martin']</td>\n",
       "      <td>0.719</td>\n",
       "      <td>167468</td>\n",
       "      <td>0.385</td>\n",
       "      <td>0</td>\n",
       "      <td>0.031300</td>\n",
       "      <td>8</td>\n",
       "      <td>0.1110</td>\n",
       "      <td>-10.907</td>\n",
       "      <td>Sweeter (feat. Terrace Martin)</td>\n",
       "      <td>0.0403</td>\n",
       "      <td>128.000</td>\n",
       "      <td>0.270</td>\n",
       "      <td>2020</td>\n",
       "      <td>0</td>\n",
       "    </tr>\n",
       "    <tr>\n",
       "      <th>169906</th>\n",
       "      <td>['Kygo', 'Oh Wonder']</td>\n",
       "      <td>0.514</td>\n",
       "      <td>180700</td>\n",
       "      <td>0.539</td>\n",
       "      <td>0</td>\n",
       "      <td>0.002330</td>\n",
       "      <td>7</td>\n",
       "      <td>0.1080</td>\n",
       "      <td>-9.332</td>\n",
       "      <td>How Would I Know</td>\n",
       "      <td>0.1050</td>\n",
       "      <td>123.700</td>\n",
       "      <td>0.153</td>\n",
       "      <td>2020</td>\n",
       "      <td>0</td>\n",
       "    </tr>\n",
       "    <tr>\n",
       "      <th>169907</th>\n",
       "      <td>['Cash Cash', 'Andy Grammer']</td>\n",
       "      <td>0.646</td>\n",
       "      <td>167308</td>\n",
       "      <td>0.761</td>\n",
       "      <td>0</td>\n",
       "      <td>0.000000</td>\n",
       "      <td>1</td>\n",
       "      <td>0.2220</td>\n",
       "      <td>-2.557</td>\n",
       "      <td>I Found You</td>\n",
       "      <td>0.0385</td>\n",
       "      <td>129.916</td>\n",
       "      <td>0.472</td>\n",
       "      <td>2020</td>\n",
       "      <td>0</td>\n",
       "    </tr>\n",
       "    <tr>\n",
       "      <th>169908</th>\n",
       "      <td>['Ingrid Andress']</td>\n",
       "      <td>0.512</td>\n",
       "      <td>214787</td>\n",
       "      <td>0.428</td>\n",
       "      <td>0</td>\n",
       "      <td>0.000000</td>\n",
       "      <td>0</td>\n",
       "      <td>0.1050</td>\n",
       "      <td>-7.387</td>\n",
       "      <td>More Hearts Than Mine</td>\n",
       "      <td>0.0271</td>\n",
       "      <td>80.588</td>\n",
       "      <td>0.366</td>\n",
       "      <td>2020</td>\n",
       "      <td>0</td>\n",
       "    </tr>\n",
       "  </tbody>\n",
       "</table>\n",
       "<p>101656 rows × 15 columns</p>\n",
       "</div>"
      ],
      "text/plain": [
       "                                   artists  danceability  duration_ms  energy  \\\n",
       "3054                        ['Elton John']         0.436       380667   0.429   \n",
       "3055                   ['Three Dog Night']         0.629       166707   0.376   \n",
       "3056     ['Martha Reeves & The Vandellas']         0.417       176573   0.753   \n",
       "3057                     ['Vashti Bunyan']         0.600       141893   0.107   \n",
       "3058                         ['Ry Cooder']         0.568       134067   0.434   \n",
       "...                                    ...           ...          ...     ...   \n",
       "169904              ['DripReport', 'Tyga']         0.875       163800   0.443   \n",
       "169905  ['Leon Bridges', 'Terrace Martin']         0.719       167468   0.385   \n",
       "169906               ['Kygo', 'Oh Wonder']         0.514       180700   0.539   \n",
       "169907       ['Cash Cash', 'Andy Grammer']         0.646       167308   0.761   \n",
       "169908                  ['Ingrid Andress']         0.512       214787   0.428   \n",
       "\n",
       "        explicit  instrumentalness  key  liveness  loudness  \\\n",
       "3054           0          0.000103    3    0.1040   -10.884   \n",
       "3055           0          0.000000    7    0.2350   -13.934   \n",
       "3056           0          0.000000    9    0.2690   -10.204   \n",
       "3057           0          0.011400    0    0.1010   -19.189   \n",
       "3058           0          0.626000    7    0.2290   -14.170   \n",
       "...          ...               ...  ...       ...       ...   \n",
       "169904         1          0.000032    1    0.0891    -7.461   \n",
       "169905         0          0.031300    8    0.1110   -10.907   \n",
       "169906         0          0.002330    7    0.1080    -9.332   \n",
       "169907         0          0.000000    1    0.2220    -2.557   \n",
       "169908         0          0.000000    0    0.1050    -7.387   \n",
       "\n",
       "                                  name  speechiness    tempo  valence  year  \\\n",
       "3054                   My Father's Gun       0.0319  119.025    0.223  1970   \n",
       "3055                     It Ain't Easy       0.0337   76.848    0.347  1970   \n",
       "3056                 I Should Be Proud       0.1260  178.408    0.794  1970   \n",
       "3057             Where I Like To Stand       0.0525  117.630    0.732  1970   \n",
       "3058                   Available Space       0.0379  147.388    0.694  1970   \n",
       "...                                ...          ...      ...      ...   ...   \n",
       "169904   Skechers (feat. Tyga) - Remix       0.1430  100.012    0.306  2020   \n",
       "169905  Sweeter (feat. Terrace Martin)       0.0403  128.000    0.270  2020   \n",
       "169906                How Would I Know       0.1050  123.700    0.153  2020   \n",
       "169907                     I Found You       0.0385  129.916    0.472  2020   \n",
       "169908           More Hearts Than Mine       0.0271   80.588    0.366  2020   \n",
       "\n",
       "        popularity_binary  \n",
       "3054                    1  \n",
       "3055                    1  \n",
       "3056                    1  \n",
       "3057                    1  \n",
       "3058                    1  \n",
       "...                   ...  \n",
       "169904                  0  \n",
       "169905                  0  \n",
       "169906                  0  \n",
       "169907                  0  \n",
       "169908                  0  \n",
       "\n",
       "[101656 rows x 15 columns]"
      ]
     },
     "execution_count": 27,
     "metadata": {},
     "output_type": "execute_result"
    }
   ],
   "source": [
    "df_att3"
   ]
  },
  {
   "cell_type": "markdown",
   "id": "320be29a",
   "metadata": {},
   "source": [
    "#### Sobre os df\n",
    "\n",
    "df: Inicial;\n",
    "\n",
    "df_att: sem reduções de colunas; \n",
    "\n",
    "df_att2: com reduções de colunas, popularidade de 100-1;\n",
    "\n",
    "df_att3: popularidade 0 ou 1."
   ]
  },
  {
   "cell_type": "code",
   "execution_count": 28,
   "id": "683aa3d2",
   "metadata": {},
   "outputs": [],
   "source": [
    "X2 = df_att3.drop(columns=['popularity_binary','artists', 'name'],  axis=1)\n",
    "y2 = df_att3['popularity_binary']"
   ]
  },
  {
   "cell_type": "code",
   "execution_count": 29,
   "id": "5f0369fc",
   "metadata": {},
   "outputs": [
    {
     "data": {
      "text/plain": [
       "LinearRegression()"
      ]
     },
     "execution_count": 29,
     "metadata": {},
     "output_type": "execute_result"
    }
   ],
   "source": [
    "# Separação dos dodos \n",
    "X2_train, X2_test, y2_train, y2_test = train_test_split(X2, y2, train_size=0.75, random_state=42)\n",
    "\n",
    "regressao_2 = LinearRegression()\n",
    "regressao_2.fit(X2_train, y2_train)"
   ]
  },
  {
   "cell_type": "code",
   "execution_count": 30,
   "id": "ef7f4dfb",
   "metadata": {},
   "outputs": [
    {
     "name": "stdout",
     "output_type": "stream",
     "text": [
      "R2 score: 0.31\n",
      "MSE: 0.16\n"
     ]
    }
   ],
   "source": [
    "y2_pred = regressao_2.predict(X2_test)\n",
    "r2_2 = r2_score(y2_test, y2_pred)\n",
    "mse_2 = mean_squared_error(y2_test, y2_pred)\n",
    "\n",
    "print(f\"R2 score: {r2_2:.2f}\")\n",
    "print(f\"MSE: {mse_2:.2f}\")\n",
    "\n",
    "# Com normalize=True \n",
    "\n",
    "\n",
    "#sem ele \n",
    "# R2 score: 0.31\n",
    "# MSE: 0.16"
   ]
  },
  {
   "cell_type": "markdown",
   "id": "c93d2005",
   "metadata": {},
   "source": [
    "### OBS.: A regressão linear não é um bom caminho para o problema!"
   ]
  },
  {
   "cell_type": "markdown",
   "id": "e843f391",
   "metadata": {},
   "source": [
    "\n",
    "### 3.2.1 Árvore de Decisão"
   ]
  },
  {
   "cell_type": "code",
   "execution_count": 31,
   "id": "f5c56b42",
   "metadata": {},
   "outputs": [],
   "source": [
    "from sklearn.tree import DecisionTreeRegressor\n",
    "#Separar os dados \n",
    "X3 = df_att2.drop(columns=['popularity','artists', 'name'],  axis=1)\n",
    "y3 = df_att2['popularity']\n",
    "X3_train, X3_test, y3_train, y3_test = train_test_split(X3, y3, test_size=0.35, random_state=42)"
   ]
  },
  {
   "cell_type": "code",
   "execution_count": 32,
   "id": "4ca46994",
   "metadata": {},
   "outputs": [],
   "source": [
    "dt = DecisionTreeRegressor() \n",
    "#Modelo da árvore"
   ]
  },
  {
   "cell_type": "code",
   "execution_count": 33,
   "id": "529e34d3",
   "metadata": {},
   "outputs": [
    {
     "data": {
      "text/plain": [
       "DecisionTreeRegressor()"
      ]
     },
     "execution_count": 33,
     "metadata": {},
     "output_type": "execute_result"
    }
   ],
   "source": [
    "dt.fit(X3_train, y3_train)\n",
    "#Treinamento"
   ]
  },
  {
   "cell_type": "code",
   "execution_count": 34,
   "id": "5957275e",
   "metadata": {},
   "outputs": [
    {
     "name": "stdout",
     "output_type": "stream",
     "text": [
      "R2 score: 0.03226747863660684\n",
      "MSE: 178.9239329601524\n"
     ]
    }
   ],
   "source": [
    "y3_pred = dt.predict(X3_test)\n",
    "\n",
    "print('R2 score:', r2_score(y3_test, y3_pred))\n",
    "print('MSE:', mean_squared_error(y3_test, y3_pred))"
   ]
  },
  {
   "cell_type": "markdown",
   "id": "90469774",
   "metadata": {},
   "source": [
    "### Muito abaixo do esperado!"
   ]
  },
  {
   "cell_type": "markdown",
   "id": "d9d6bcda",
   "metadata": {},
   "source": [
    "### 3.2.2 Árvore de Decisão - Popularidade Binária "
   ]
  },
  {
   "cell_type": "code",
   "execution_count": 35,
   "id": "eda37c92",
   "metadata": {},
   "outputs": [],
   "source": [
    "X4 = df_att3.drop(columns=['popularity_binary','artists', 'name'], axis=1)\n",
    "y4 = df_att3['popularity_binary']\n",
    "X4_train, X4_test, y4_train, y4_test = train_test_split(X4, y4, test_size=0.35, random_state=42)"
   ]
  },
  {
   "cell_type": "code",
   "execution_count": 36,
   "id": "dc49b257",
   "metadata": {},
   "outputs": [
    {
     "data": {
      "text/plain": [
       "DecisionTreeRegressor()"
      ]
     },
     "execution_count": 36,
     "metadata": {},
     "output_type": "execute_result"
    }
   ],
   "source": [
    "dt2 = DecisionTreeRegressor()\n",
    "dt2.fit(X4_train, y4_train)\n",
    "#Treinamento"
   ]
  },
  {
   "cell_type": "code",
   "execution_count": 37,
   "id": "c2599f05",
   "metadata": {},
   "outputs": [
    {
     "name": "stdout",
     "output_type": "stream",
     "text": [
      "R2 score: -9549.122410578086\n",
      "MSE: 2215.3804019502218\n"
     ]
    }
   ],
   "source": [
    "y4_pred = dt.predict(X4_test)\n",
    "\n",
    "print('R2 score:', r2_score(y4_test, y4_pred))\n",
    "print('MSE:', mean_squared_error(y4_test, y4_pred))"
   ]
  },
  {
   "cell_type": "markdown",
   "id": "073e5478",
   "metadata": {},
   "source": [
    "### :'("
   ]
  },
  {
   "cell_type": "markdown",
   "id": "93495641",
   "metadata": {},
   "source": [
    "### 3.3 Regressão Logística "
   ]
  },
  {
   "cell_type": "code",
   "execution_count": 38,
   "id": "c68aa4c2",
   "metadata": {},
   "outputs": [],
   "source": [
    "from sklearn.preprocessing import StandardScaler\n",
    "from sklearn.linear_model import LogisticRegression\n",
    "from sklearn.metrics import accuracy_score, confusion_matrix\n",
    "\n",
    "X5 = df_att3.drop(columns=['popularity_binary','artists', 'name'],  axis=1)\n",
    "y5 = df_att3['popularity_binary']\n",
    "\n",
    "X5_train, X5_test, y5_train, y5_test = train_test_split(X5, y5, test_size=0.35, random_state=42)\n",
    "# Para stratify = y5 a acurácia deu menor. "
   ]
  },
  {
   "cell_type": "code",
   "execution_count": 39,
   "id": "9a9ea625",
   "metadata": {},
   "outputs": [
    {
     "data": {
      "text/plain": [
       "1    0.633893\n",
       "0    0.366107\n",
       "Name: popularity_binary, dtype: float64"
      ]
     },
     "execution_count": 39,
     "metadata": {},
     "output_type": "execute_result"
    }
   ],
   "source": [
    "df_att3[\"popularity_binary\"].value_counts(normalize=True)"
   ]
  },
  {
   "cell_type": "code",
   "execution_count": 40,
   "id": "569607e5",
   "metadata": {},
   "outputs": [
    {
     "data": {
      "text/plain": [
       "<AxesSubplot:xlabel='popularity_binary', ylabel='count'>"
      ]
     },
     "execution_count": 40,
     "metadata": {},
     "output_type": "execute_result"
    },
    {
     "data": {
      "image/png": "[encoded data removed]",
      "text/plain": [
       "<Figure size 640x480 with 1 Axes>"
      ]
     },
     "metadata": {},
     "output_type": "display_data"
    }
   ],
   "source": [
    "sns.countplot(data=df_att3, x=\"popularity_binary\")"
   ]
  },
  {
   "cell_type": "code",
   "execution_count": 41,
   "id": "1471fb52",
   "metadata": {},
   "outputs": [],
   "source": [
    "# Fazendo o escolanemento \n",
    "scaler = StandardScaler()\n",
    "X5_train_scaled = scaler.fit_transform(X5_train)\n",
    "X5_test_scaled = scaler.transform(X5_test)"
   ]
  },
  {
   "cell_type": "code",
   "execution_count": 42,
   "id": "8482c2dd",
   "metadata": {},
   "outputs": [],
   "source": [
    "reg_log = LogisticRegression()"
   ]
  },
  {
   "cell_type": "code",
   "execution_count": 43,
   "id": "7124125d",
   "metadata": {},
   "outputs": [
    {
     "data": {
      "text/plain": [
       "LogisticRegression()"
      ]
     },
     "execution_count": 43,
     "metadata": {},
     "output_type": "execute_result"
    }
   ],
   "source": [
    "reg_log.fit(X5_train_scaled, y5_train)"
   ]
  },
  {
   "cell_type": "code",
   "execution_count": 44,
   "id": "784a7617",
   "metadata": {},
   "outputs": [
    {
     "name": "stdout",
     "output_type": "stream",
     "text": [
      "Accuracy: 0.7816469926925239\n",
      "Confusion matrix:\n",
      " [[ 8660  4353]\n",
      " [ 3416 19151]]\n"
     ]
    }
   ],
   "source": [
    "# Fazer previsões\n",
    "y5_pred = reg_log.predict(X5_test_scaled)\n",
    "\n",
    "# Avaliar o modelo\n",
    "accuracy = accuracy_score(y5_test, y5_pred)\n",
    "conf_matrix = confusion_matrix(y5_test, y5_pred)\n",
    "\n",
    "print('Accuracy:', accuracy)\n",
    "print('Confusion matrix:\\n', conf_matrix)\n",
    "\n",
    "# Para stratify = y5\n",
    "# Accuracy: 0.7798482293423271\n",
    "# Confusion matrix:\n",
    "#  [[ 8664  4362]\n",
    "#  [ 3471 19083]]"
   ]
  },
  {
   "cell_type": "markdown",
   "id": "afc78291",
   "metadata": {},
   "source": [
    "### 3.3.1 Tunning dos Hiperparâmetros"
   ]
  },
  {
   "cell_type": "code",
   "execution_count": 46,
   "id": "f327f1a6",
   "metadata": {},
   "outputs": [],
   "source": [
    "param_grid = {'penalty': ['l1', 'l2', 'elasticnet', 'none'],\n",
    "              'C': [0.001, 0.01, 0.1, 1, 10, 100],\n",
    "              'solver': ['newton-cg', 'lbfgs', 'liblinear', 'sag', 'saga']}\n",
    "#Nosso dicionário de hip."
   ]
  },
  {
   "cell_type": "code",
   "execution_count": 47,
   "id": "5c5eada1",
   "metadata": {},
   "outputs": [
    {
     "name": "stderr",
     "output_type": "stream",
     "text": [
      "C:\\Users\\vhcha\\anaconda3\\lib\\site-packages\\sklearn\\linear_model\\_logistic.py:1483: UserWarning: Setting penalty='none' will ignore the C and l1_ratio parameters\n",
      "  warnings.warn(\n",
      "C:\\Users\\vhcha\\anaconda3\\lib\\site-packages\\sklearn\\linear_model\\_logistic.py:1483: UserWarning: Setting penalty='none' will ignore the C and l1_ratio parameters\n",
      "  warnings.warn(\n",
      "C:\\Users\\vhcha\\anaconda3\\lib\\site-packages\\sklearn\\linear_model\\_logistic.py:1483: UserWarning: Setting penalty='none' will ignore the C and l1_ratio parameters\n",
      "  warnings.warn(\n",
      "C:\\Users\\vhcha\\anaconda3\\lib\\site-packages\\sklearn\\linear_model\\_logistic.py:1483: UserWarning: Setting penalty='none' will ignore the C and l1_ratio parameters\n",
      "  warnings.warn(\n",
      "C:\\Users\\vhcha\\anaconda3\\lib\\site-packages\\sklearn\\linear_model\\_logistic.py:1483: UserWarning: Setting penalty='none' will ignore the C and l1_ratio parameters\n",
      "  warnings.warn(\n",
      "C:\\Users\\vhcha\\anaconda3\\lib\\site-packages\\sklearn\\linear_model\\_logistic.py:1483: UserWarning: Setting penalty='none' will ignore the C and l1_ratio parameters\n",
      "  warnings.warn(\n",
      "C:\\Users\\vhcha\\anaconda3\\lib\\site-packages\\sklearn\\linear_model\\_logistic.py:1483: UserWarning: Setting penalty='none' will ignore the C and l1_ratio parameters\n",
      "  warnings.warn(\n",
      "C:\\Users\\vhcha\\anaconda3\\lib\\site-packages\\sklearn\\linear_model\\_logistic.py:1483: UserWarning: Setting penalty='none' will ignore the C and l1_ratio parameters\n",
      "  warnings.warn(\n",
      "C:\\Users\\vhcha\\anaconda3\\lib\\site-packages\\sklearn\\linear_model\\_logistic.py:1483: UserWarning: Setting penalty='none' will ignore the C and l1_ratio parameters\n",
      "  warnings.warn(\n",
      "C:\\Users\\vhcha\\anaconda3\\lib\\site-packages\\sklearn\\linear_model\\_logistic.py:1483: UserWarning: Setting penalty='none' will ignore the C and l1_ratio parameters\n",
      "  warnings.warn(\n",
      "C:\\Users\\vhcha\\anaconda3\\lib\\site-packages\\sklearn\\linear_model\\_logistic.py:1483: UserWarning: Setting penalty='none' will ignore the C and l1_ratio parameters\n",
      "  warnings.warn(\n",
      "C:\\Users\\vhcha\\anaconda3\\lib\\site-packages\\sklearn\\linear_model\\_logistic.py:1483: UserWarning: Setting penalty='none' will ignore the C and l1_ratio parameters\n",
      "  warnings.warn(\n",
      "C:\\Users\\vhcha\\anaconda3\\lib\\site-packages\\sklearn\\linear_model\\_logistic.py:1483: UserWarning: Setting penalty='none' will ignore the C and l1_ratio parameters\n",
      "  warnings.warn(\n",
      "C:\\Users\\vhcha\\anaconda3\\lib\\site-packages\\sklearn\\linear_model\\_logistic.py:1483: UserWarning: Setting penalty='none' will ignore the C and l1_ratio parameters\n",
      "  warnings.warn(\n",
      "C:\\Users\\vhcha\\anaconda3\\lib\\site-packages\\sklearn\\linear_model\\_logistic.py:1483: UserWarning: Setting penalty='none' will ignore the C and l1_ratio parameters\n",
      "  warnings.warn(\n",
      "C:\\Users\\vhcha\\anaconda3\\lib\\site-packages\\sklearn\\linear_model\\_logistic.py:1483: UserWarning: Setting penalty='none' will ignore the C and l1_ratio parameters\n",
      "  warnings.warn(\n",
      "C:\\Users\\vhcha\\anaconda3\\lib\\site-packages\\sklearn\\linear_model\\_logistic.py:1483: UserWarning: Setting penalty='none' will ignore the C and l1_ratio parameters\n",
      "  warnings.warn(\n",
      "C:\\Users\\vhcha\\anaconda3\\lib\\site-packages\\sklearn\\linear_model\\_logistic.py:1483: UserWarning: Setting penalty='none' will ignore the C and l1_ratio parameters\n",
      "  warnings.warn(\n",
      "C:\\Users\\vhcha\\anaconda3\\lib\\site-packages\\sklearn\\linear_model\\_logistic.py:1483: UserWarning: Setting penalty='none' will ignore the C and l1_ratio parameters\n",
      "  warnings.warn(\n",
      "C:\\Users\\vhcha\\anaconda3\\lib\\site-packages\\sklearn\\linear_model\\_logistic.py:1483: UserWarning: Setting penalty='none' will ignore the C and l1_ratio parameters\n",
      "  warnings.warn(\n",
      "C:\\Users\\vhcha\\anaconda3\\lib\\site-packages\\sklearn\\linear_model\\_logistic.py:1483: UserWarning: Setting penalty='none' will ignore the C and l1_ratio parameters\n",
      "  warnings.warn(\n",
      "C:\\Users\\vhcha\\anaconda3\\lib\\site-packages\\sklearn\\linear_model\\_logistic.py:1483: UserWarning: Setting penalty='none' will ignore the C and l1_ratio parameters\n",
      "  warnings.warn(\n",
      "C:\\Users\\vhcha\\anaconda3\\lib\\site-packages\\sklearn\\linear_model\\_logistic.py:1483: UserWarning: Setting penalty='none' will ignore the C and l1_ratio parameters\n",
      "  warnings.warn(\n",
      "C:\\Users\\vhcha\\anaconda3\\lib\\site-packages\\sklearn\\linear_model\\_logistic.py:1483: UserWarning: Setting penalty='none' will ignore the C and l1_ratio parameters\n",
      "  warnings.warn(\n",
      "C:\\Users\\vhcha\\anaconda3\\lib\\site-packages\\sklearn\\linear_model\\_logistic.py:1483: UserWarning: Setting penalty='none' will ignore the C and l1_ratio parameters\n",
      "  warnings.warn(\n",
      "C:\\Users\\vhcha\\anaconda3\\lib\\site-packages\\sklearn\\linear_model\\_logistic.py:1483: UserWarning: Setting penalty='none' will ignore the C and l1_ratio parameters\n",
      "  warnings.warn(\n",
      "C:\\Users\\vhcha\\anaconda3\\lib\\site-packages\\sklearn\\linear_model\\_logistic.py:1483: UserWarning: Setting penalty='none' will ignore the C and l1_ratio parameters\n",
      "  warnings.warn(\n",
      "C:\\Users\\vhcha\\anaconda3\\lib\\site-packages\\sklearn\\linear_model\\_logistic.py:1483: UserWarning: Setting penalty='none' will ignore the C and l1_ratio parameters\n",
      "  warnings.warn(\n",
      "C:\\Users\\vhcha\\anaconda3\\lib\\site-packages\\sklearn\\linear_model\\_logistic.py:1483: UserWarning: Setting penalty='none' will ignore the C and l1_ratio parameters\n",
      "  warnings.warn(\n",
      "C:\\Users\\vhcha\\anaconda3\\lib\\site-packages\\sklearn\\linear_model\\_logistic.py:1483: UserWarning: Setting penalty='none' will ignore the C and l1_ratio parameters\n",
      "  warnings.warn(\n",
      "C:\\Users\\vhcha\\anaconda3\\lib\\site-packages\\sklearn\\linear_model\\_logistic.py:1483: UserWarning: Setting penalty='none' will ignore the C and l1_ratio parameters\n",
      "  warnings.warn(\n",
      "C:\\Users\\vhcha\\anaconda3\\lib\\site-packages\\sklearn\\linear_model\\_logistic.py:1483: UserWarning: Setting penalty='none' will ignore the C and l1_ratio parameters\n",
      "  warnings.warn(\n",
      "C:\\Users\\vhcha\\anaconda3\\lib\\site-packages\\sklearn\\linear_model\\_logistic.py:1483: UserWarning: Setting penalty='none' will ignore the C and l1_ratio parameters\n",
      "  warnings.warn(\n",
      "C:\\Users\\vhcha\\anaconda3\\lib\\site-packages\\sklearn\\linear_model\\_logistic.py:1483: UserWarning: Setting penalty='none' will ignore the C and l1_ratio parameters\n",
      "  warnings.warn(\n",
      "C:\\Users\\vhcha\\anaconda3\\lib\\site-packages\\sklearn\\linear_model\\_logistic.py:1483: UserWarning: Setting penalty='none' will ignore the C and l1_ratio parameters\n",
      "  warnings.warn(\n",
      "C:\\Users\\vhcha\\anaconda3\\lib\\site-packages\\sklearn\\linear_model\\_logistic.py:1483: UserWarning: Setting penalty='none' will ignore the C and l1_ratio parameters\n",
      "  warnings.warn(\n",
      "C:\\Users\\vhcha\\anaconda3\\lib\\site-packages\\sklearn\\linear_model\\_logistic.py:1483: UserWarning: Setting penalty='none' will ignore the C and l1_ratio parameters\n",
      "  warnings.warn(\n",
      "C:\\Users\\vhcha\\anaconda3\\lib\\site-packages\\sklearn\\linear_model\\_logistic.py:1483: UserWarning: Setting penalty='none' will ignore the C and l1_ratio parameters\n",
      "  warnings.warn(\n",
      "C:\\Users\\vhcha\\anaconda3\\lib\\site-packages\\sklearn\\linear_model\\_logistic.py:1483: UserWarning: Setting penalty='none' will ignore the C and l1_ratio parameters\n",
      "  warnings.warn(\n",
      "C:\\Users\\vhcha\\anaconda3\\lib\\site-packages\\sklearn\\linear_model\\_logistic.py:1483: UserWarning: Setting penalty='none' will ignore the C and l1_ratio parameters\n",
      "  warnings.warn(\n",
      "C:\\Users\\vhcha\\anaconda3\\lib\\site-packages\\sklearn\\linear_model\\_logistic.py:1483: UserWarning: Setting penalty='none' will ignore the C and l1_ratio parameters\n",
      "  warnings.warn(\n",
      "C:\\Users\\vhcha\\anaconda3\\lib\\site-packages\\sklearn\\linear_model\\_logistic.py:1483: UserWarning: Setting penalty='none' will ignore the C and l1_ratio parameters\n",
      "  warnings.warn(\n",
      "C:\\Users\\vhcha\\anaconda3\\lib\\site-packages\\sklearn\\linear_model\\_logistic.py:1483: UserWarning: Setting penalty='none' will ignore the C and l1_ratio parameters\n",
      "  warnings.warn(\n",
      "C:\\Users\\vhcha\\anaconda3\\lib\\site-packages\\sklearn\\linear_model\\_logistic.py:1483: UserWarning: Setting penalty='none' will ignore the C and l1_ratio parameters\n",
      "  warnings.warn(\n",
      "C:\\Users\\vhcha\\anaconda3\\lib\\site-packages\\sklearn\\linear_model\\_logistic.py:1483: UserWarning: Setting penalty='none' will ignore the C and l1_ratio parameters\n",
      "  warnings.warn(\n",
      "C:\\Users\\vhcha\\anaconda3\\lib\\site-packages\\sklearn\\linear_model\\_logistic.py:1483: UserWarning: Setting penalty='none' will ignore the C and l1_ratio parameters\n",
      "  warnings.warn(\n",
      "C:\\Users\\vhcha\\anaconda3\\lib\\site-packages\\sklearn\\linear_model\\_logistic.py:1483: UserWarning: Setting penalty='none' will ignore the C and l1_ratio parameters\n",
      "  warnings.warn(\n",
      "C:\\Users\\vhcha\\anaconda3\\lib\\site-packages\\sklearn\\linear_model\\_logistic.py:1483: UserWarning: Setting penalty='none' will ignore the C and l1_ratio parameters\n",
      "  warnings.warn(\n",
      "C:\\Users\\vhcha\\anaconda3\\lib\\site-packages\\sklearn\\linear_model\\_logistic.py:1483: UserWarning: Setting penalty='none' will ignore the C and l1_ratio parameters\n",
      "  warnings.warn(\n",
      "C:\\Users\\vhcha\\anaconda3\\lib\\site-packages\\sklearn\\linear_model\\_logistic.py:1483: UserWarning: Setting penalty='none' will ignore the C and l1_ratio parameters\n",
      "  warnings.warn(\n"
     ]
    },
    {
     "name": "stderr",
     "output_type": "stream",
     "text": [
      "C:\\Users\\vhcha\\anaconda3\\lib\\site-packages\\sklearn\\linear_model\\_logistic.py:1483: UserWarning: Setting penalty='none' will ignore the C and l1_ratio parameters\n",
      "  warnings.warn(\n",
      "C:\\Users\\vhcha\\anaconda3\\lib\\site-packages\\sklearn\\linear_model\\_logistic.py:1483: UserWarning: Setting penalty='none' will ignore the C and l1_ratio parameters\n",
      "  warnings.warn(\n",
      "C:\\Users\\vhcha\\anaconda3\\lib\\site-packages\\sklearn\\linear_model\\_logistic.py:1483: UserWarning: Setting penalty='none' will ignore the C and l1_ratio parameters\n",
      "  warnings.warn(\n",
      "C:\\Users\\vhcha\\anaconda3\\lib\\site-packages\\sklearn\\linear_model\\_logistic.py:1483: UserWarning: Setting penalty='none' will ignore the C and l1_ratio parameters\n",
      "  warnings.warn(\n",
      "C:\\Users\\vhcha\\anaconda3\\lib\\site-packages\\sklearn\\linear_model\\_logistic.py:1483: UserWarning: Setting penalty='none' will ignore the C and l1_ratio parameters\n",
      "  warnings.warn(\n",
      "C:\\Users\\vhcha\\anaconda3\\lib\\site-packages\\sklearn\\linear_model\\_logistic.py:1483: UserWarning: Setting penalty='none' will ignore the C and l1_ratio parameters\n",
      "  warnings.warn(\n",
      "C:\\Users\\vhcha\\anaconda3\\lib\\site-packages\\sklearn\\linear_model\\_logistic.py:1483: UserWarning: Setting penalty='none' will ignore the C and l1_ratio parameters\n",
      "  warnings.warn(\n",
      "C:\\Users\\vhcha\\anaconda3\\lib\\site-packages\\sklearn\\linear_model\\_logistic.py:1483: UserWarning: Setting penalty='none' will ignore the C and l1_ratio parameters\n",
      "  warnings.warn(\n",
      "C:\\Users\\vhcha\\anaconda3\\lib\\site-packages\\sklearn\\linear_model\\_logistic.py:1483: UserWarning: Setting penalty='none' will ignore the C and l1_ratio parameters\n",
      "  warnings.warn(\n",
      "C:\\Users\\vhcha\\anaconda3\\lib\\site-packages\\sklearn\\linear_model\\_logistic.py:1483: UserWarning: Setting penalty='none' will ignore the C and l1_ratio parameters\n",
      "  warnings.warn(\n",
      "C:\\Users\\vhcha\\anaconda3\\lib\\site-packages\\sklearn\\linear_model\\_logistic.py:1483: UserWarning: Setting penalty='none' will ignore the C and l1_ratio parameters\n",
      "  warnings.warn(\n",
      "C:\\Users\\vhcha\\anaconda3\\lib\\site-packages\\sklearn\\linear_model\\_logistic.py:1483: UserWarning: Setting penalty='none' will ignore the C and l1_ratio parameters\n",
      "  warnings.warn(\n",
      "C:\\Users\\vhcha\\anaconda3\\lib\\site-packages\\sklearn\\linear_model\\_logistic.py:1483: UserWarning: Setting penalty='none' will ignore the C and l1_ratio parameters\n",
      "  warnings.warn(\n",
      "C:\\Users\\vhcha\\anaconda3\\lib\\site-packages\\sklearn\\linear_model\\_logistic.py:1483: UserWarning: Setting penalty='none' will ignore the C and l1_ratio parameters\n",
      "  warnings.warn(\n",
      "C:\\Users\\vhcha\\anaconda3\\lib\\site-packages\\sklearn\\linear_model\\_logistic.py:1483: UserWarning: Setting penalty='none' will ignore the C and l1_ratio parameters\n",
      "  warnings.warn(\n",
      "C:\\Users\\vhcha\\anaconda3\\lib\\site-packages\\sklearn\\linear_model\\_logistic.py:1483: UserWarning: Setting penalty='none' will ignore the C and l1_ratio parameters\n",
      "  warnings.warn(\n",
      "C:\\Users\\vhcha\\anaconda3\\lib\\site-packages\\sklearn\\linear_model\\_logistic.py:1483: UserWarning: Setting penalty='none' will ignore the C and l1_ratio parameters\n",
      "  warnings.warn(\n",
      "C:\\Users\\vhcha\\anaconda3\\lib\\site-packages\\sklearn\\linear_model\\_logistic.py:1483: UserWarning: Setting penalty='none' will ignore the C and l1_ratio parameters\n",
      "  warnings.warn(\n",
      "C:\\Users\\vhcha\\anaconda3\\lib\\site-packages\\sklearn\\linear_model\\_logistic.py:1483: UserWarning: Setting penalty='none' will ignore the C and l1_ratio parameters\n",
      "  warnings.warn(\n",
      "C:\\Users\\vhcha\\anaconda3\\lib\\site-packages\\sklearn\\linear_model\\_logistic.py:1483: UserWarning: Setting penalty='none' will ignore the C and l1_ratio parameters\n",
      "  warnings.warn(\n",
      "C:\\Users\\vhcha\\anaconda3\\lib\\site-packages\\sklearn\\linear_model\\_logistic.py:1483: UserWarning: Setting penalty='none' will ignore the C and l1_ratio parameters\n",
      "  warnings.warn(\n",
      "C:\\Users\\vhcha\\anaconda3\\lib\\site-packages\\sklearn\\linear_model\\_logistic.py:1483: UserWarning: Setting penalty='none' will ignore the C and l1_ratio parameters\n",
      "  warnings.warn(\n",
      "C:\\Users\\vhcha\\anaconda3\\lib\\site-packages\\sklearn\\linear_model\\_logistic.py:1483: UserWarning: Setting penalty='none' will ignore the C and l1_ratio parameters\n",
      "  warnings.warn(\n",
      "C:\\Users\\vhcha\\anaconda3\\lib\\site-packages\\sklearn\\linear_model\\_logistic.py:1483: UserWarning: Setting penalty='none' will ignore the C and l1_ratio parameters\n",
      "  warnings.warn(\n",
      "C:\\Users\\vhcha\\anaconda3\\lib\\site-packages\\sklearn\\linear_model\\_logistic.py:1483: UserWarning: Setting penalty='none' will ignore the C and l1_ratio parameters\n",
      "  warnings.warn(\n",
      "C:\\Users\\vhcha\\anaconda3\\lib\\site-packages\\sklearn\\linear_model\\_logistic.py:1483: UserWarning: Setting penalty='none' will ignore the C and l1_ratio parameters\n",
      "  warnings.warn(\n",
      "C:\\Users\\vhcha\\anaconda3\\lib\\site-packages\\sklearn\\linear_model\\_logistic.py:1483: UserWarning: Setting penalty='none' will ignore the C and l1_ratio parameters\n",
      "  warnings.warn(\n",
      "C:\\Users\\vhcha\\anaconda3\\lib\\site-packages\\sklearn\\linear_model\\_logistic.py:1483: UserWarning: Setting penalty='none' will ignore the C and l1_ratio parameters\n",
      "  warnings.warn(\n",
      "C:\\Users\\vhcha\\anaconda3\\lib\\site-packages\\sklearn\\linear_model\\_logistic.py:1483: UserWarning: Setting penalty='none' will ignore the C and l1_ratio parameters\n",
      "  warnings.warn(\n",
      "C:\\Users\\vhcha\\anaconda3\\lib\\site-packages\\sklearn\\linear_model\\_logistic.py:1483: UserWarning: Setting penalty='none' will ignore the C and l1_ratio parameters\n",
      "  warnings.warn(\n",
      "C:\\Users\\vhcha\\anaconda3\\lib\\site-packages\\sklearn\\linear_model\\_logistic.py:1483: UserWarning: Setting penalty='none' will ignore the C and l1_ratio parameters\n",
      "  warnings.warn(\n",
      "C:\\Users\\vhcha\\anaconda3\\lib\\site-packages\\sklearn\\linear_model\\_logistic.py:1483: UserWarning: Setting penalty='none' will ignore the C and l1_ratio parameters\n",
      "  warnings.warn(\n",
      "C:\\Users\\vhcha\\anaconda3\\lib\\site-packages\\sklearn\\linear_model\\_logistic.py:1483: UserWarning: Setting penalty='none' will ignore the C and l1_ratio parameters\n",
      "  warnings.warn(\n",
      "C:\\Users\\vhcha\\anaconda3\\lib\\site-packages\\sklearn\\linear_model\\_logistic.py:1483: UserWarning: Setting penalty='none' will ignore the C and l1_ratio parameters\n",
      "  warnings.warn(\n",
      "C:\\Users\\vhcha\\anaconda3\\lib\\site-packages\\sklearn\\linear_model\\_logistic.py:1483: UserWarning: Setting penalty='none' will ignore the C and l1_ratio parameters\n",
      "  warnings.warn(\n",
      "C:\\Users\\vhcha\\anaconda3\\lib\\site-packages\\sklearn\\linear_model\\_logistic.py:1483: UserWarning: Setting penalty='none' will ignore the C and l1_ratio parameters\n",
      "  warnings.warn(\n",
      "C:\\Users\\vhcha\\anaconda3\\lib\\site-packages\\sklearn\\linear_model\\_logistic.py:1483: UserWarning: Setting penalty='none' will ignore the C and l1_ratio parameters\n",
      "  warnings.warn(\n",
      "C:\\Users\\vhcha\\anaconda3\\lib\\site-packages\\sklearn\\linear_model\\_logistic.py:1483: UserWarning: Setting penalty='none' will ignore the C and l1_ratio parameters\n",
      "  warnings.warn(\n",
      "C:\\Users\\vhcha\\anaconda3\\lib\\site-packages\\sklearn\\linear_model\\_logistic.py:1483: UserWarning: Setting penalty='none' will ignore the C and l1_ratio parameters\n",
      "  warnings.warn(\n",
      "C:\\Users\\vhcha\\anaconda3\\lib\\site-packages\\sklearn\\linear_model\\_logistic.py:1483: UserWarning: Setting penalty='none' will ignore the C and l1_ratio parameters\n",
      "  warnings.warn(\n",
      "C:\\Users\\vhcha\\anaconda3\\lib\\site-packages\\sklearn\\linear_model\\_logistic.py:1483: UserWarning: Setting penalty='none' will ignore the C and l1_ratio parameters\n",
      "  warnings.warn(\n",
      "C:\\Users\\vhcha\\anaconda3\\lib\\site-packages\\sklearn\\linear_model\\_logistic.py:1483: UserWarning: Setting penalty='none' will ignore the C and l1_ratio parameters\n",
      "  warnings.warn(\n",
      "C:\\Users\\vhcha\\anaconda3\\lib\\site-packages\\sklearn\\linear_model\\_logistic.py:1483: UserWarning: Setting penalty='none' will ignore the C and l1_ratio parameters\n",
      "  warnings.warn(\n",
      "C:\\Users\\vhcha\\anaconda3\\lib\\site-packages\\sklearn\\linear_model\\_logistic.py:1483: UserWarning: Setting penalty='none' will ignore the C and l1_ratio parameters\n",
      "  warnings.warn(\n",
      "C:\\Users\\vhcha\\anaconda3\\lib\\site-packages\\sklearn\\linear_model\\_logistic.py:1483: UserWarning: Setting penalty='none' will ignore the C and l1_ratio parameters\n",
      "  warnings.warn(\n",
      "C:\\Users\\vhcha\\anaconda3\\lib\\site-packages\\sklearn\\linear_model\\_logistic.py:1483: UserWarning: Setting penalty='none' will ignore the C and l1_ratio parameters\n",
      "  warnings.warn(\n",
      "C:\\Users\\vhcha\\anaconda3\\lib\\site-packages\\sklearn\\linear_model\\_logistic.py:1483: UserWarning: Setting penalty='none' will ignore the C and l1_ratio parameters\n",
      "  warnings.warn(\n"
     ]
    },
    {
     "name": "stderr",
     "output_type": "stream",
     "text": [
      "C:\\Users\\vhcha\\anaconda3\\lib\\site-packages\\sklearn\\linear_model\\_logistic.py:1483: UserWarning: Setting penalty='none' will ignore the C and l1_ratio parameters\n",
      "  warnings.warn(\n",
      "C:\\Users\\vhcha\\anaconda3\\lib\\site-packages\\sklearn\\linear_model\\_logistic.py:1483: UserWarning: Setting penalty='none' will ignore the C and l1_ratio parameters\n",
      "  warnings.warn(\n",
      "C:\\Users\\vhcha\\anaconda3\\lib\\site-packages\\sklearn\\linear_model\\_logistic.py:1483: UserWarning: Setting penalty='none' will ignore the C and l1_ratio parameters\n",
      "  warnings.warn(\n",
      "C:\\Users\\vhcha\\anaconda3\\lib\\site-packages\\sklearn\\model_selection\\_validation.py:372: FitFailedWarning: \n",
      "270 fits failed out of a total of 600.\n",
      "The score on these train-test partitions for these parameters will be set to nan.\n",
      "If these failures are not expected, you can try to debug them by setting error_score='raise'.\n",
      "\n",
      "Below are more details about the failures:\n",
      "--------------------------------------------------------------------------------\n",
      "30 fits failed with the following error:\n",
      "Traceback (most recent call last):\n",
      "  File \"C:\\Users\\vhcha\\anaconda3\\lib\\site-packages\\sklearn\\model_selection\\_validation.py\", line 680, in _fit_and_score\n",
      "    estimator.fit(X_train, y_train, **fit_params)\n",
      "  File \"C:\\Users\\vhcha\\anaconda3\\lib\\site-packages\\sklearn\\linear_model\\_logistic.py\", line 1461, in fit\n",
      "    solver = _check_solver(self.solver, self.penalty, self.dual)\n",
      "  File \"C:\\Users\\vhcha\\anaconda3\\lib\\site-packages\\sklearn\\linear_model\\_logistic.py\", line 447, in _check_solver\n",
      "    raise ValueError(\n",
      "ValueError: Solver newton-cg supports only 'l2' or 'none' penalties, got l1 penalty.\n",
      "\n",
      "--------------------------------------------------------------------------------\n",
      "30 fits failed with the following error:\n",
      "Traceback (most recent call last):\n",
      "  File \"C:\\Users\\vhcha\\anaconda3\\lib\\site-packages\\sklearn\\model_selection\\_validation.py\", line 680, in _fit_and_score\n",
      "    estimator.fit(X_train, y_train, **fit_params)\n",
      "  File \"C:\\Users\\vhcha\\anaconda3\\lib\\site-packages\\sklearn\\linear_model\\_logistic.py\", line 1461, in fit\n",
      "    solver = _check_solver(self.solver, self.penalty, self.dual)\n",
      "  File \"C:\\Users\\vhcha\\anaconda3\\lib\\site-packages\\sklearn\\linear_model\\_logistic.py\", line 447, in _check_solver\n",
      "    raise ValueError(\n",
      "ValueError: Solver lbfgs supports only 'l2' or 'none' penalties, got l1 penalty.\n",
      "\n",
      "--------------------------------------------------------------------------------\n",
      "30 fits failed with the following error:\n",
      "Traceback (most recent call last):\n",
      "  File \"C:\\Users\\vhcha\\anaconda3\\lib\\site-packages\\sklearn\\model_selection\\_validation.py\", line 680, in _fit_and_score\n",
      "    estimator.fit(X_train, y_train, **fit_params)\n",
      "  File \"C:\\Users\\vhcha\\anaconda3\\lib\\site-packages\\sklearn\\linear_model\\_logistic.py\", line 1461, in fit\n",
      "    solver = _check_solver(self.solver, self.penalty, self.dual)\n",
      "  File \"C:\\Users\\vhcha\\anaconda3\\lib\\site-packages\\sklearn\\linear_model\\_logistic.py\", line 447, in _check_solver\n",
      "    raise ValueError(\n",
      "ValueError: Solver sag supports only 'l2' or 'none' penalties, got l1 penalty.\n",
      "\n",
      "--------------------------------------------------------------------------------\n",
      "30 fits failed with the following error:\n",
      "Traceback (most recent call last):\n",
      "  File \"C:\\Users\\vhcha\\anaconda3\\lib\\site-packages\\sklearn\\model_selection\\_validation.py\", line 680, in _fit_and_score\n",
      "    estimator.fit(X_train, y_train, **fit_params)\n",
      "  File \"C:\\Users\\vhcha\\anaconda3\\lib\\site-packages\\sklearn\\linear_model\\_logistic.py\", line 1461, in fit\n",
      "    solver = _check_solver(self.solver, self.penalty, self.dual)\n",
      "  File \"C:\\Users\\vhcha\\anaconda3\\lib\\site-packages\\sklearn\\linear_model\\_logistic.py\", line 447, in _check_solver\n",
      "    raise ValueError(\n",
      "ValueError: Solver newton-cg supports only 'l2' or 'none' penalties, got elasticnet penalty.\n",
      "\n",
      "--------------------------------------------------------------------------------\n",
      "30 fits failed with the following error:\n",
      "Traceback (most recent call last):\n",
      "  File \"C:\\Users\\vhcha\\anaconda3\\lib\\site-packages\\sklearn\\model_selection\\_validation.py\", line 680, in _fit_and_score\n",
      "    estimator.fit(X_train, y_train, **fit_params)\n",
      "  File \"C:\\Users\\vhcha\\anaconda3\\lib\\site-packages\\sklearn\\linear_model\\_logistic.py\", line 1461, in fit\n",
      "    solver = _check_solver(self.solver, self.penalty, self.dual)\n",
      "  File \"C:\\Users\\vhcha\\anaconda3\\lib\\site-packages\\sklearn\\linear_model\\_logistic.py\", line 447, in _check_solver\n",
      "    raise ValueError(\n",
      "ValueError: Solver lbfgs supports only 'l2' or 'none' penalties, got elasticnet penalty.\n",
      "\n",
      "--------------------------------------------------------------------------------\n",
      "30 fits failed with the following error:\n",
      "Traceback (most recent call last):\n",
      "  File \"C:\\Users\\vhcha\\anaconda3\\lib\\site-packages\\sklearn\\model_selection\\_validation.py\", line 680, in _fit_and_score\n",
      "    estimator.fit(X_train, y_train, **fit_params)\n",
      "  File \"C:\\Users\\vhcha\\anaconda3\\lib\\site-packages\\sklearn\\linear_model\\_logistic.py\", line 1461, in fit\n",
      "    solver = _check_solver(self.solver, self.penalty, self.dual)\n",
      "  File \"C:\\Users\\vhcha\\anaconda3\\lib\\site-packages\\sklearn\\linear_model\\_logistic.py\", line 457, in _check_solver\n",
      "    raise ValueError(\n",
      "ValueError: Only 'saga' solver supports elasticnet penalty, got solver=liblinear.\n",
      "\n",
      "--------------------------------------------------------------------------------\n",
      "30 fits failed with the following error:\n",
      "Traceback (most recent call last):\n",
      "  File \"C:\\Users\\vhcha\\anaconda3\\lib\\site-packages\\sklearn\\model_selection\\_validation.py\", line 680, in _fit_and_score\n",
      "    estimator.fit(X_train, y_train, **fit_params)\n",
      "  File \"C:\\Users\\vhcha\\anaconda3\\lib\\site-packages\\sklearn\\linear_model\\_logistic.py\", line 1461, in fit\n",
      "    solver = _check_solver(self.solver, self.penalty, self.dual)\n",
      "  File \"C:\\Users\\vhcha\\anaconda3\\lib\\site-packages\\sklearn\\linear_model\\_logistic.py\", line 447, in _check_solver\n",
      "    raise ValueError(\n",
      "ValueError: Solver sag supports only 'l2' or 'none' penalties, got elasticnet penalty.\n",
      "\n",
      "--------------------------------------------------------------------------------\n",
      "30 fits failed with the following error:\n",
      "Traceback (most recent call last):\n",
      "  File \"C:\\Users\\vhcha\\anaconda3\\lib\\site-packages\\sklearn\\model_selection\\_validation.py\", line 680, in _fit_and_score\n",
      "    estimator.fit(X_train, y_train, **fit_params)\n",
      "  File \"C:\\Users\\vhcha\\anaconda3\\lib\\site-packages\\sklearn\\linear_model\\_logistic.py\", line 1471, in fit\n",
      "    raise ValueError(\n",
      "ValueError: l1_ratio must be between 0 and 1; got (l1_ratio=None)\n",
      "\n",
      "--------------------------------------------------------------------------------\n",
      "30 fits failed with the following error:\n",
      "Traceback (most recent call last):\n",
      "  File \"C:\\Users\\vhcha\\anaconda3\\lib\\site-packages\\sklearn\\model_selection\\_validation.py\", line 680, in _fit_and_score\n",
      "    estimator.fit(X_train, y_train, **fit_params)\n",
      "  File \"C:\\Users\\vhcha\\anaconda3\\lib\\site-packages\\sklearn\\linear_model\\_logistic.py\", line 1461, in fit\n",
      "    solver = _check_solver(self.solver, self.penalty, self.dual)\n",
      "  File \"C:\\Users\\vhcha\\anaconda3\\lib\\site-packages\\sklearn\\linear_model\\_logistic.py\", line 464, in _check_solver\n",
      "    raise ValueError(\"penalty='none' is not supported for the liblinear solver\")\n",
      "ValueError: penalty='none' is not supported for the liblinear solver\n",
      "\n",
      "  warnings.warn(some_fits_failed_message, FitFailedWarning)\n",
      "C:\\Users\\vhcha\\anaconda3\\lib\\site-packages\\sklearn\\model_selection\\_search.py:969: UserWarning: One or more of the test scores are non-finite: [       nan        nan 0.7800562         nan 0.78464181 0.78370353\n",
      " 0.78370353 0.78135774 0.78365813 0.78370353        nan        nan\n",
      "        nan        nan        nan 0.78405159 0.78405159        nan\n",
      " 0.78403646 0.78405159        nan        nan 0.78426346        nan\n",
      " 0.78462669 0.78400619 0.78400619 0.78365811 0.78400619 0.78399106\n",
      "        nan        nan        nan        nan        nan 0.78405159\n",
      " 0.78405159        nan 0.78405159 0.78403646        nan        nan\n",
      " 0.78411212        nan 0.78420293 0.78403646 0.78403646 0.78405159\n",
      " 0.78403646 0.78403646        nan        nan        nan        nan\n",
      "        nan 0.78405159 0.78405159        nan 0.78403646 0.78405159\n",
      "        nan        nan 0.78403646        nan 0.78405159 0.78405159\n",
      " 0.78405159 0.78405159 0.78403646 0.78405159        nan        nan\n",
      "        nan        nan        nan 0.78405159 0.78405159        nan\n",
      " 0.78405159 0.78403646        nan        nan 0.78405159        nan\n",
      " 0.78403646 0.78405159 0.78405159 0.78405159 0.78405159 0.78405159\n",
      "        nan        nan        nan        nan        nan 0.78405159\n",
      " 0.78405159        nan 0.78405159 0.78405159        nan        nan\n",
      " 0.78405159        nan 0.78403646 0.78405159 0.78405159 0.78405159\n",
      " 0.78405159 0.78403646        nan        nan        nan        nan\n",
      "        nan 0.78405159 0.78405159        nan 0.78405159 0.78403646]\n",
      "  warnings.warn(\n"
     ]
    },
    {
     "data": {
      "text/plain": [
       "GridSearchCV(cv=5, estimator=LogisticRegression(),\n",
       "             param_grid={'C': [0.001, 0.01, 0.1, 1, 10, 100],\n",
       "                         'penalty': ['l1', 'l2', 'elasticnet', 'none'],\n",
       "                         'solver': ['newton-cg', 'lbfgs', 'liblinear', 'sag',\n",
       "                                    'saga']},\n",
       "             scoring='accuracy')"
      ]
     },
     "execution_count": 47,
     "metadata": {},
     "output_type": "execute_result"
    }
   ],
   "source": [
    "from sklearn.model_selection import GridSearchCV\n",
    "\n",
    "grid_search = GridSearchCV(estimator=reg_log, param_grid=param_grid, cv=5, scoring='accuracy')\n",
    "grid_search.fit(X5_train_scaled, y5_train)\n"
   ]
  },
  {
   "cell_type": "code",
   "execution_count": 48,
   "id": "6730fdb9",
   "metadata": {},
   "outputs": [
    {
     "name": "stdout",
     "output_type": "stream",
     "text": [
      "Best parameters: {'C': 0.001, 'penalty': 'l1', 'solver': 'saga'}\n",
      "Best score: 0.7846418070392897\n"
     ]
    }
   ],
   "source": [
    "best_params = grid_search.best_params_\n",
    "best_score = grid_search.best_score_\n",
    "\n",
    "print('Best parameters:', best_params)\n",
    "print('Best score:', best_score)\n"
   ]
  },
  {
   "cell_type": "code",
   "execution_count": 49,
   "id": "f2992a8d",
   "metadata": {},
   "outputs": [],
   "source": [
    "\n",
    "X52 = df_att3.drop(columns=['popularity_binary','artists', 'name'],  axis=1)\n",
    "y52= df_att3['popularity_binary']\n",
    "\n",
    "X52_train, X52_test, y52_train, y52_test = train_test_split(X52, y52, test_size=0.35, random_state=42)"
   ]
  },
  {
   "cell_type": "code",
   "execution_count": 50,
   "id": "9c42d2e7",
   "metadata": {},
   "outputs": [],
   "source": [
    "# Fazendo o escolanemento \n",
    "scaler52 = StandardScaler()\n",
    "X52_train_scaled = scaler52.fit_transform(X52_train)\n",
    "X52_test_scaled = scaler52.transform(X52_test)"
   ]
  },
  {
   "cell_type": "code",
   "execution_count": 52,
   "id": "746fbc62",
   "metadata": {},
   "outputs": [],
   "source": [
    "reg_log2 = LogisticRegression(C=0.001, penalty='l1', solver= 'saga')"
   ]
  },
  {
   "cell_type": "code",
   "execution_count": 53,
   "id": "95672b0c",
   "metadata": {},
   "outputs": [
    {
     "data": {
      "text/plain": [
       "LogisticRegression(C=0.001, penalty='l1', solver='saga')"
      ]
     },
     "execution_count": 53,
     "metadata": {},
     "output_type": "execute_result"
    }
   ],
   "source": [
    "reg_log2.fit(X52_train_scaled, y52_train)"
   ]
  },
  {
   "cell_type": "code",
   "execution_count": 54,
   "id": "71ecda3f",
   "metadata": {},
   "outputs": [
    {
     "name": "stdout",
     "output_type": "stream",
     "text": [
      "Accuracy: 0.7823777403035413\n",
      "Confusion matrix:\n",
      " [[ 8566  4447]\n",
      " [ 3296 19271]]\n"
     ]
    }
   ],
   "source": [
    "y52_pred = reg_log2.predict(X52_test_scaled)\n",
    "\n",
    "# Avaliar o modelo\n",
    "accuracy52 = accuracy_score(y52_test, y52_pred)\n",
    "conf_matrix52 = confusion_matrix(y52_test, y52_pred)\n",
    "\n",
    "print('Accuracy:', accuracy52)\n",
    "print('Confusion matrix: \\n', conf_matrix52)"
   ]
  },
  {
   "cell_type": "markdown",
   "id": "9e4663f4",
   "metadata": {},
   "source": [
    "\n",
    "## Esse modelo (Regressão Logística) atende ao problema proposto. "
   ]
  },
  {
   "cell_type": "markdown",
   "id": "f51532ad",
   "metadata": {},
   "source": [
    "### 3.4 Kneighbors"
   ]
  },
  {
   "cell_type": "code",
   "execution_count": 56,
   "id": "b2bd38dc",
   "metadata": {},
   "outputs": [],
   "source": [
    "from sklearn.neighbors import KNeighborsClassifier\n",
    "from sklearn.metrics import accuracy_score"
   ]
  },
  {
   "cell_type": "code",
   "execution_count": 57,
   "id": "cf1ad2ae",
   "metadata": {},
   "outputs": [],
   "source": [
    "X6 = df_att3.drop(columns=['popularity_binary','artists', 'name'],  axis=1)\n",
    "y6 = df_att3['popularity_binary']"
   ]
  },
  {
   "cell_type": "code",
   "execution_count": 58,
   "id": "14081674",
   "metadata": {},
   "outputs": [],
   "source": [
    "X6_train, X6_test, y6_train, y6_test = train_test_split(X6,  y6, test_size=0.3, random_state=42, stratify=y6)"
   ]
  },
  {
   "cell_type": "code",
   "execution_count": 59,
   "id": "a18fd607",
   "metadata": {},
   "outputs": [],
   "source": [
    "scaler6 = StandardScaler()\n",
    "X6_train_scaled = scaler6.fit_transform(X6_train)\n",
    "X6_test_scaled = scaler6.transform(X6_test)"
   ]
  },
  {
   "cell_type": "code",
   "execution_count": 60,
   "id": "29860e06",
   "metadata": {},
   "outputs": [],
   "source": [
    "knn = KNeighborsClassifier()"
   ]
  },
  {
   "cell_type": "code",
   "execution_count": 61,
   "id": "1885b7fe",
   "metadata": {},
   "outputs": [
    {
     "data": {
      "text/plain": [
       "KNeighborsClassifier()"
      ]
     },
     "execution_count": 61,
     "metadata": {},
     "output_type": "execute_result"
    }
   ],
   "source": [
    "knn.fit(X6_train_scaled, y6_train)"
   ]
  },
  {
   "cell_type": "code",
   "execution_count": 62,
   "id": "20f2e679",
   "metadata": {},
   "outputs": [
    {
     "name": "stderr",
     "output_type": "stream",
     "text": [
      "C:\\Users\\vhcha\\anaconda3\\lib\\site-packages\\sklearn\\neighbors\\_classification.py:228: FutureWarning: Unlike other reduction functions (e.g. `skew`, `kurtosis`), the default behavior of `mode` typically preserves the axis it acts along. In SciPy 1.11.0, this behavior will change: the default value of `keepdims` will become False, the `axis` over which the statistic is taken will be eliminated, and the value None will no longer be accepted. Set `keepdims` to True or False to avoid this warning.\n",
      "  mode, _ = stats.mode(_y[neigh_ind, k], axis=1)\n"
     ]
    }
   ],
   "source": [
    "y6_pred = knn.predict(X6_test_scaled)"
   ]
  },
  {
   "cell_type": "code",
   "execution_count": 63,
   "id": "1259f985",
   "metadata": {},
   "outputs": [
    {
     "name": "stdout",
     "output_type": "stream",
     "text": [
      "Acurácia: 0.7551562448765452\n"
     ]
    }
   ],
   "source": [
    "acuracia = accuracy_score(y6_test, y6_pred)\n",
    "print(\"Acurácia:\", acuracia)"
   ]
  },
  {
   "cell_type": "code",
   "execution_count": 64,
   "id": "a9a156d9",
   "metadata": {},
   "outputs": [
    {
     "name": "stdout",
     "output_type": "stream",
     "text": [
      "              precision    recall  f1-score   support\n",
      "\n",
      "           0       0.69      0.61      0.64     11165\n",
      "           1       0.79      0.84      0.81     19332\n",
      "\n",
      "    accuracy                           0.76     30497\n",
      "   macro avg       0.74      0.72      0.73     30497\n",
      "weighted avg       0.75      0.76      0.75     30497\n",
      "\n"
     ]
    }
   ],
   "source": [
    "from sklearn.metrics import classification_report\n",
    "\n",
    "print(classification_report(y6_test, y6_pred))\n"
   ]
  },
  {
   "cell_type": "markdown",
   "id": "46619d2d",
   "metadata": {},
   "source": [
    "### 3.4.1 Tunning de Hiperparâmetros - Tentativa e Erro"
   ]
  },
  {
   "cell_type": "code",
   "execution_count": null,
   "id": "cd469ce3",
   "metadata": {},
   "outputs": [],
   "source": [
    "\n",
    "# n_neighbors = 10\n",
    "# Ac.: 0.7620\n",
    "  \n",
    "# n_neighbors = 50\n",
    "# Ac.: 0.7794\n",
    "    \n",
    "# n_neighbors = 100\n",
    "# Ac.: 0.7774\n",
    "        \n",
    "# n_neighbors = 500\n",
    "# Ac.: 0.7774"
   ]
  },
  {
   "cell_type": "code",
   "execution_count": 215,
   "id": "20457651",
   "metadata": {},
   "outputs": [
    {
     "name": "stderr",
     "output_type": "stream",
     "text": [
      "C:\\Users\\vhcha\\anaconda3\\lib\\site-packages\\sklearn\\neighbors\\_classification.py:228: FutureWarning: Unlike other reduction functions (e.g. `skew`, `kurtosis`), the default behavior of `mode` typically preserves the axis it acts along. In SciPy 1.11.0, this behavior will change: the default value of `keepdims` will become False, the `axis` over which the statistic is taken will be eliminated, and the value None will no longer be accepted. Set `keepdims` to True or False to avoid this warning.\n",
      "  mode, _ = stats.mode(_y[neigh_ind, k], axis=1)\n",
      "C:\\Users\\vhcha\\anaconda3\\lib\\site-packages\\sklearn\\neighbors\\_classification.py:228: FutureWarning: Unlike other reduction functions (e.g. `skew`, `kurtosis`), the default behavior of `mode` typically preserves the axis it acts along. In SciPy 1.11.0, this behavior will change: the default value of `keepdims` will become False, the `axis` over which the statistic is taken will be eliminated, and the value None will no longer be accepted. Set `keepdims` to True or False to avoid this warning.\n",
      "  mode, _ = stats.mode(_y[neigh_ind, k], axis=1)\n",
      "C:\\Users\\vhcha\\anaconda3\\lib\\site-packages\\sklearn\\neighbors\\_classification.py:228: FutureWarning: Unlike other reduction functions (e.g. `skew`, `kurtosis`), the default behavior of `mode` typically preserves the axis it acts along. In SciPy 1.11.0, this behavior will change: the default value of `keepdims` will become False, the `axis` over which the statistic is taken will be eliminated, and the value None will no longer be accepted. Set `keepdims` to True or False to avoid this warning.\n",
      "  mode, _ = stats.mode(_y[neigh_ind, k], axis=1)\n",
      "C:\\Users\\vhcha\\anaconda3\\lib\\site-packages\\sklearn\\neighbors\\_classification.py:228: FutureWarning: Unlike other reduction functions (e.g. `skew`, `kurtosis`), the default behavior of `mode` typically preserves the axis it acts along. In SciPy 1.11.0, this behavior will change: the default value of `keepdims` will become False, the `axis` over which the statistic is taken will be eliminated, and the value None will no longer be accepted. Set `keepdims` to True or False to avoid this warning.\n",
      "  mode, _ = stats.mode(_y[neigh_ind, k], axis=1)\n",
      "C:\\Users\\vhcha\\anaconda3\\lib\\site-packages\\sklearn\\neighbors\\_classification.py:228: FutureWarning: Unlike other reduction functions (e.g. `skew`, `kurtosis`), the default behavior of `mode` typically preserves the axis it acts along. In SciPy 1.11.0, this behavior will change: the default value of `keepdims` will become False, the `axis` over which the statistic is taken will be eliminated, and the value None will no longer be accepted. Set `keepdims` to True or False to avoid this warning.\n",
      "  mode, _ = stats.mode(_y[neigh_ind, k], axis=1)\n",
      "C:\\Users\\vhcha\\anaconda3\\lib\\site-packages\\sklearn\\neighbors\\_classification.py:228: FutureWarning: Unlike other reduction functions (e.g. `skew`, `kurtosis`), the default behavior of `mode` typically preserves the axis it acts along. In SciPy 1.11.0, this behavior will change: the default value of `keepdims` will become False, the `axis` over which the statistic is taken will be eliminated, and the value None will no longer be accepted. Set `keepdims` to True or False to avoid this warning.\n",
      "  mode, _ = stats.mode(_y[neigh_ind, k], axis=1)\n",
      "C:\\Users\\vhcha\\anaconda3\\lib\\site-packages\\sklearn\\neighbors\\_classification.py:228: FutureWarning: Unlike other reduction functions (e.g. `skew`, `kurtosis`), the default behavior of `mode` typically preserves the axis it acts along. In SciPy 1.11.0, this behavior will change: the default value of `keepdims` will become False, the `axis` over which the statistic is taken will be eliminated, and the value None will no longer be accepted. Set `keepdims` to True or False to avoid this warning.\n",
      "  mode, _ = stats.mode(_y[neigh_ind, k], axis=1)\n",
      "C:\\Users\\vhcha\\anaconda3\\lib\\site-packages\\sklearn\\neighbors\\_classification.py:228: FutureWarning: Unlike other reduction functions (e.g. `skew`, `kurtosis`), the default behavior of `mode` typically preserves the axis it acts along. In SciPy 1.11.0, this behavior will change: the default value of `keepdims` will become False, the `axis` over which the statistic is taken will be eliminated, and the value None will no longer be accepted. Set `keepdims` to True or False to avoid this warning.\n",
      "  mode, _ = stats.mode(_y[neigh_ind, k], axis=1)\n",
      "C:\\Users\\vhcha\\anaconda3\\lib\\site-packages\\sklearn\\neighbors\\_classification.py:228: FutureWarning: Unlike other reduction functions (e.g. `skew`, `kurtosis`), the default behavior of `mode` typically preserves the axis it acts along. In SciPy 1.11.0, this behavior will change: the default value of `keepdims` will become False, the `axis` over which the statistic is taken will be eliminated, and the value None will no longer be accepted. Set `keepdims` to True or False to avoid this warning.\n",
      "  mode, _ = stats.mode(_y[neigh_ind, k], axis=1)\n",
      "C:\\Users\\vhcha\\anaconda3\\lib\\site-packages\\sklearn\\neighbors\\_classification.py:228: FutureWarning: Unlike other reduction functions (e.g. `skew`, `kurtosis`), the default behavior of `mode` typically preserves the axis it acts along. In SciPy 1.11.0, this behavior will change: the default value of `keepdims` will become False, the `axis` over which the statistic is taken will be eliminated, and the value None will no longer be accepted. Set `keepdims` to True or False to avoid this warning.\n",
      "  mode, _ = stats.mode(_y[neigh_ind, k], axis=1)\n",
      "C:\\Users\\vhcha\\anaconda3\\lib\\site-packages\\sklearn\\neighbors\\_classification.py:228: FutureWarning: Unlike other reduction functions (e.g. `skew`, `kurtosis`), the default behavior of `mode` typically preserves the axis it acts along. In SciPy 1.11.0, this behavior will change: the default value of `keepdims` will become False, the `axis` over which the statistic is taken will be eliminated, and the value None will no longer be accepted. Set `keepdims` to True or False to avoid this warning.\n",
      "  mode, _ = stats.mode(_y[neigh_ind, k], axis=1)\n",
      "C:\\Users\\vhcha\\anaconda3\\lib\\site-packages\\sklearn\\neighbors\\_classification.py:228: FutureWarning: Unlike other reduction functions (e.g. `skew`, `kurtosis`), the default behavior of `mode` typically preserves the axis it acts along. In SciPy 1.11.0, this behavior will change: the default value of `keepdims` will become False, the `axis` over which the statistic is taken will be eliminated, and the value None will no longer be accepted. Set `keepdims` to True or False to avoid this warning.\n",
      "  mode, _ = stats.mode(_y[neigh_ind, k], axis=1)\n",
      "C:\\Users\\vhcha\\anaconda3\\lib\\site-packages\\sklearn\\neighbors\\_classification.py:228: FutureWarning: Unlike other reduction functions (e.g. `skew`, `kurtosis`), the default behavior of `mode` typically preserves the axis it acts along. In SciPy 1.11.0, this behavior will change: the default value of `keepdims` will become False, the `axis` over which the statistic is taken will be eliminated, and the value None will no longer be accepted. Set `keepdims` to True or False to avoid this warning.\n",
      "  mode, _ = stats.mode(_y[neigh_ind, k], axis=1)\n",
      "C:\\Users\\vhcha\\anaconda3\\lib\\site-packages\\sklearn\\neighbors\\_classification.py:228: FutureWarning: Unlike other reduction functions (e.g. `skew`, `kurtosis`), the default behavior of `mode` typically preserves the axis it acts along. In SciPy 1.11.0, this behavior will change: the default value of `keepdims` will become False, the `axis` over which the statistic is taken will be eliminated, and the value None will no longer be accepted. Set `keepdims` to True or False to avoid this warning.\n",
      "  mode, _ = stats.mode(_y[neigh_ind, k], axis=1)\n",
      "C:\\Users\\vhcha\\anaconda3\\lib\\site-packages\\sklearn\\neighbors\\_classification.py:228: FutureWarning: Unlike other reduction functions (e.g. `skew`, `kurtosis`), the default behavior of `mode` typically preserves the axis it acts along. In SciPy 1.11.0, this behavior will change: the default value of `keepdims` will become False, the `axis` over which the statistic is taken will be eliminated, and the value None will no longer be accepted. Set `keepdims` to True or False to avoid this warning.\n",
      "  mode, _ = stats.mode(_y[neigh_ind, k], axis=1)\n",
      "C:\\Users\\vhcha\\anaconda3\\lib\\site-packages\\sklearn\\neighbors\\_classification.py:228: FutureWarning: Unlike other reduction functions (e.g. `skew`, `kurtosis`), the default behavior of `mode` typically preserves the axis it acts along. In SciPy 1.11.0, this behavior will change: the default value of `keepdims` will become False, the `axis` over which the statistic is taken will be eliminated, and the value None will no longer be accepted. Set `keepdims` to True or False to avoid this warning.\n",
      "  mode, _ = stats.mode(_y[neigh_ind, k], axis=1)\n"
     ]
    },
    {
     "name": "stderr",
     "output_type": "stream",
     "text": [
      "C:\\Users\\vhcha\\anaconda3\\lib\\site-packages\\sklearn\\neighbors\\_classification.py:228: FutureWarning: Unlike other reduction functions (e.g. `skew`, `kurtosis`), the default behavior of `mode` typically preserves the axis it acts along. In SciPy 1.11.0, this behavior will change: the default value of `keepdims` will become False, the `axis` over which the statistic is taken will be eliminated, and the value None will no longer be accepted. Set `keepdims` to True or False to avoid this warning.\n",
      "  mode, _ = stats.mode(_y[neigh_ind, k], axis=1)\n",
      "C:\\Users\\vhcha\\anaconda3\\lib\\site-packages\\sklearn\\neighbors\\_classification.py:228: FutureWarning: Unlike other reduction functions (e.g. `skew`, `kurtosis`), the default behavior of `mode` typically preserves the axis it acts along. In SciPy 1.11.0, this behavior will change: the default value of `keepdims` will become False, the `axis` over which the statistic is taken will be eliminated, and the value None will no longer be accepted. Set `keepdims` to True or False to avoid this warning.\n",
      "  mode, _ = stats.mode(_y[neigh_ind, k], axis=1)\n",
      "C:\\Users\\vhcha\\anaconda3\\lib\\site-packages\\sklearn\\neighbors\\_classification.py:228: FutureWarning: Unlike other reduction functions (e.g. `skew`, `kurtosis`), the default behavior of `mode` typically preserves the axis it acts along. In SciPy 1.11.0, this behavior will change: the default value of `keepdims` will become False, the `axis` over which the statistic is taken will be eliminated, and the value None will no longer be accepted. Set `keepdims` to True or False to avoid this warning.\n",
      "  mode, _ = stats.mode(_y[neigh_ind, k], axis=1)\n",
      "C:\\Users\\vhcha\\anaconda3\\lib\\site-packages\\sklearn\\neighbors\\_classification.py:228: FutureWarning: Unlike other reduction functions (e.g. `skew`, `kurtosis`), the default behavior of `mode` typically preserves the axis it acts along. In SciPy 1.11.0, this behavior will change: the default value of `keepdims` will become False, the `axis` over which the statistic is taken will be eliminated, and the value None will no longer be accepted. Set `keepdims` to True or False to avoid this warning.\n",
      "  mode, _ = stats.mode(_y[neigh_ind, k], axis=1)\n",
      "C:\\Users\\vhcha\\anaconda3\\lib\\site-packages\\sklearn\\neighbors\\_classification.py:228: FutureWarning: Unlike other reduction functions (e.g. `skew`, `kurtosis`), the default behavior of `mode` typically preserves the axis it acts along. In SciPy 1.11.0, this behavior will change: the default value of `keepdims` will become False, the `axis` over which the statistic is taken will be eliminated, and the value None will no longer be accepted. Set `keepdims` to True or False to avoid this warning.\n",
      "  mode, _ = stats.mode(_y[neigh_ind, k], axis=1)\n",
      "C:\\Users\\vhcha\\anaconda3\\lib\\site-packages\\sklearn\\neighbors\\_classification.py:228: FutureWarning: Unlike other reduction functions (e.g. `skew`, `kurtosis`), the default behavior of `mode` typically preserves the axis it acts along. In SciPy 1.11.0, this behavior will change: the default value of `keepdims` will become False, the `axis` over which the statistic is taken will be eliminated, and the value None will no longer be accepted. Set `keepdims` to True or False to avoid this warning.\n",
      "  mode, _ = stats.mode(_y[neigh_ind, k], axis=1)\n",
      "C:\\Users\\vhcha\\anaconda3\\lib\\site-packages\\sklearn\\neighbors\\_classification.py:228: FutureWarning: Unlike other reduction functions (e.g. `skew`, `kurtosis`), the default behavior of `mode` typically preserves the axis it acts along. In SciPy 1.11.0, this behavior will change: the default value of `keepdims` will become False, the `axis` over which the statistic is taken will be eliminated, and the value None will no longer be accepted. Set `keepdims` to True or False to avoid this warning.\n",
      "  mode, _ = stats.mode(_y[neigh_ind, k], axis=1)\n",
      "C:\\Users\\vhcha\\anaconda3\\lib\\site-packages\\sklearn\\neighbors\\_classification.py:228: FutureWarning: Unlike other reduction functions (e.g. `skew`, `kurtosis`), the default behavior of `mode` typically preserves the axis it acts along. In SciPy 1.11.0, this behavior will change: the default value of `keepdims` will become False, the `axis` over which the statistic is taken will be eliminated, and the value None will no longer be accepted. Set `keepdims` to True or False to avoid this warning.\n",
      "  mode, _ = stats.mode(_y[neigh_ind, k], axis=1)\n",
      "C:\\Users\\vhcha\\anaconda3\\lib\\site-packages\\sklearn\\neighbors\\_classification.py:228: FutureWarning: Unlike other reduction functions (e.g. `skew`, `kurtosis`), the default behavior of `mode` typically preserves the axis it acts along. In SciPy 1.11.0, this behavior will change: the default value of `keepdims` will become False, the `axis` over which the statistic is taken will be eliminated, and the value None will no longer be accepted. Set `keepdims` to True or False to avoid this warning.\n",
      "  mode, _ = stats.mode(_y[neigh_ind, k], axis=1)\n",
      "C:\\Users\\vhcha\\anaconda3\\lib\\site-packages\\sklearn\\neighbors\\_classification.py:228: FutureWarning: Unlike other reduction functions (e.g. `skew`, `kurtosis`), the default behavior of `mode` typically preserves the axis it acts along. In SciPy 1.11.0, this behavior will change: the default value of `keepdims` will become False, the `axis` over which the statistic is taken will be eliminated, and the value None will no longer be accepted. Set `keepdims` to True or False to avoid this warning.\n",
      "  mode, _ = stats.mode(_y[neigh_ind, k], axis=1)\n",
      "C:\\Users\\vhcha\\anaconda3\\lib\\site-packages\\sklearn\\neighbors\\_classification.py:228: FutureWarning: Unlike other reduction functions (e.g. `skew`, `kurtosis`), the default behavior of `mode` typically preserves the axis it acts along. In SciPy 1.11.0, this behavior will change: the default value of `keepdims` will become False, the `axis` over which the statistic is taken will be eliminated, and the value None will no longer be accepted. Set `keepdims` to True or False to avoid this warning.\n",
      "  mode, _ = stats.mode(_y[neigh_ind, k], axis=1)\n",
      "C:\\Users\\vhcha\\anaconda3\\lib\\site-packages\\sklearn\\neighbors\\_classification.py:228: FutureWarning: Unlike other reduction functions (e.g. `skew`, `kurtosis`), the default behavior of `mode` typically preserves the axis it acts along. In SciPy 1.11.0, this behavior will change: the default value of `keepdims` will become False, the `axis` over which the statistic is taken will be eliminated, and the value None will no longer be accepted. Set `keepdims` to True or False to avoid this warning.\n",
      "  mode, _ = stats.mode(_y[neigh_ind, k], axis=1)\n",
      "C:\\Users\\vhcha\\anaconda3\\lib\\site-packages\\sklearn\\neighbors\\_classification.py:228: FutureWarning: Unlike other reduction functions (e.g. `skew`, `kurtosis`), the default behavior of `mode` typically preserves the axis it acts along. In SciPy 1.11.0, this behavior will change: the default value of `keepdims` will become False, the `axis` over which the statistic is taken will be eliminated, and the value None will no longer be accepted. Set `keepdims` to True or False to avoid this warning.\n",
      "  mode, _ = stats.mode(_y[neigh_ind, k], axis=1)\n",
      "C:\\Users\\vhcha\\anaconda3\\lib\\site-packages\\sklearn\\neighbors\\_classification.py:228: FutureWarning: Unlike other reduction functions (e.g. `skew`, `kurtosis`), the default behavior of `mode` typically preserves the axis it acts along. In SciPy 1.11.0, this behavior will change: the default value of `keepdims` will become False, the `axis` over which the statistic is taken will be eliminated, and the value None will no longer be accepted. Set `keepdims` to True or False to avoid this warning.\n",
      "  mode, _ = stats.mode(_y[neigh_ind, k], axis=1)\n"
     ]
    },
    {
     "data": {
      "image/png": "[encoded data removed]",
      "text/plain": [
       "<Figure size 1200x800 with 1 Axes>"
      ]
     },
     "metadata": {},
     "output_type": "display_data"
    },
    {
     "name": "stdout",
     "output_type": "stream",
     "text": [
      "Melhor k: 21\n"
     ]
    }
   ],
   "source": [
    "ks = []\n",
    "accuracys = []\n",
    "for k in range(10, 70, 2):\n",
    "    model = KNeighborsClassifier(n_neighbors=k)\n",
    "    model.fit(X6_train_scaled, y6_train)\n",
    "    y6_pred = model.predict(X6_test_scaled)\n",
    "    acc = accuracy_score(y6_test, y6_pred)\n",
    "    accuracys.append(acc)\n",
    "    ks.append(k)\n",
    "\n",
    "plt.figure(figsize=(12,8))\n",
    "plt.plot(ks, accuracys, '-bo')\n",
    "plt.xlabel('k', fontsize = 15)\n",
    "plt.ylabel('Accuracy', fontsize = 15)\n",
    "plt.title('Acurácia x Número K', fontsize = 15)\n",
    "plt.show(True)\n",
    "best_k = np.argmax(accuracys)+1\n",
    "print('Melhor k:', best_k)"
   ]
  },
  {
   "cell_type": "code",
   "execution_count": null,
   "id": "ead0b3a4",
   "metadata": {},
   "outputs": [],
   "source": []
  },
  {
   "cell_type": "markdown",
   "id": "d205dc27",
   "metadata": {},
   "source": [
    "### 3.4.2 Tunning de Hiperparâmetros GridSearchCV"
   ]
  },
  {
   "cell_type": "code",
   "execution_count": null,
   "id": "1757c5e8",
   "metadata": {},
   "outputs": [],
   "source": [
    "from sklearn.neighbors import KNeighborsClassifier\n",
    "from sklearn.model_selection import GridSearchCV\n",
    "\n",
    "param_grid62 = {\n",
    "                \"weights\" : [\"distance\", \"uniform\"],\n",
    "                \"metric\" : [\"manhattan\", \"euclidean\", \"minkowski\"],\n",
    "                \"n_neighbors\" : range(20, 22)\n",
    "                }"
   ]
  },
  {
   "cell_type": "code",
   "execution_count": 87,
   "id": "0c91354a",
   "metadata": {},
   "outputs": [],
   "source": [
    "grid_search62 = GridSearchCV(KNeighborsClassifier(), param_grid62, cv=3,verbose=10)\n"
   ]
  },
  {
   "cell_type": "code",
   "execution_count": 88,
   "id": "cdcbff20",
   "metadata": {},
   "outputs": [
    {
     "name": "stdout",
     "output_type": "stream",
     "text": [
      "Fitting 3 folds for each of 12 candidates, totalling 36 fits\n",
      "[CV 1/3; 1/12] START metric=manhattan, n_neighbors=20, weights=distance.........\n",
      "[CV 1/3; 1/12] END metric=manhattan, n_neighbors=20, weights=distance;, score=0.775 total time=  19.1s\n",
      "[CV 2/3; 1/12] START metric=manhattan, n_neighbors=20, weights=distance.........\n",
      "[CV 2/3; 1/12] END metric=manhattan, n_neighbors=20, weights=distance;, score=0.783 total time=  20.3s\n",
      "[CV 3/3; 1/12] START metric=manhattan, n_neighbors=20, weights=distance.........\n",
      "[CV 3/3; 1/12] END metric=manhattan, n_neighbors=20, weights=distance;, score=0.778 total time=  20.5s\n",
      "[CV 1/3; 2/12] START metric=manhattan, n_neighbors=20, weights=uniform..........\n"
     ]
    },
    {
     "name": "stderr",
     "output_type": "stream",
     "text": [
      "C:\\Users\\vhcha\\anaconda3\\lib\\site-packages\\sklearn\\neighbors\\_classification.py:228: FutureWarning: Unlike other reduction functions (e.g. `skew`, `kurtosis`), the default behavior of `mode` typically preserves the axis it acts along. In SciPy 1.11.0, this behavior will change: the default value of `keepdims` will become False, the `axis` over which the statistic is taken will be eliminated, and the value None will no longer be accepted. Set `keepdims` to True or False to avoid this warning.\n",
      "  mode, _ = stats.mode(_y[neigh_ind, k], axis=1)\n"
     ]
    },
    {
     "name": "stdout",
     "output_type": "stream",
     "text": [
      "[CV 1/3; 2/12] END metric=manhattan, n_neighbors=20, weights=uniform;, score=0.776 total time=  19.9s\n",
      "[CV 2/3; 2/12] START metric=manhattan, n_neighbors=20, weights=uniform..........\n"
     ]
    },
    {
     "name": "stderr",
     "output_type": "stream",
     "text": [
      "C:\\Users\\vhcha\\anaconda3\\lib\\site-packages\\sklearn\\neighbors\\_classification.py:228: FutureWarning: Unlike other reduction functions (e.g. `skew`, `kurtosis`), the default behavior of `mode` typically preserves the axis it acts along. In SciPy 1.11.0, this behavior will change: the default value of `keepdims` will become False, the `axis` over which the statistic is taken will be eliminated, and the value None will no longer be accepted. Set `keepdims` to True or False to avoid this warning.\n",
      "  mode, _ = stats.mode(_y[neigh_ind, k], axis=1)\n"
     ]
    },
    {
     "name": "stdout",
     "output_type": "stream",
     "text": [
      "[CV 2/3; 2/12] END metric=manhattan, n_neighbors=20, weights=uniform;, score=0.782 total time=  20.8s\n",
      "[CV 3/3; 2/12] START metric=manhattan, n_neighbors=20, weights=uniform..........\n"
     ]
    },
    {
     "name": "stderr",
     "output_type": "stream",
     "text": [
      "C:\\Users\\vhcha\\anaconda3\\lib\\site-packages\\sklearn\\neighbors\\_classification.py:228: FutureWarning: Unlike other reduction functions (e.g. `skew`, `kurtosis`), the default behavior of `mode` typically preserves the axis it acts along. In SciPy 1.11.0, this behavior will change: the default value of `keepdims` will become False, the `axis` over which the statistic is taken will be eliminated, and the value None will no longer be accepted. Set `keepdims` to True or False to avoid this warning.\n",
      "  mode, _ = stats.mode(_y[neigh_ind, k], axis=1)\n"
     ]
    },
    {
     "name": "stdout",
     "output_type": "stream",
     "text": [
      "[CV 3/3; 2/12] END metric=manhattan, n_neighbors=20, weights=uniform;, score=0.776 total time=  21.3s\n",
      "[CV 1/3; 3/12] START metric=manhattan, n_neighbors=21, weights=distance.........\n",
      "[CV 1/3; 3/12] END metric=manhattan, n_neighbors=21, weights=distance;, score=0.776 total time=  20.3s\n",
      "[CV 2/3; 3/12] START metric=manhattan, n_neighbors=21, weights=distance.........\n",
      "[CV 2/3; 3/12] END metric=manhattan, n_neighbors=21, weights=distance;, score=0.784 total time=  21.4s\n",
      "[CV 3/3; 3/12] START metric=manhattan, n_neighbors=21, weights=distance.........\n",
      "[CV 3/3; 3/12] END metric=manhattan, n_neighbors=21, weights=distance;, score=0.778 total time=  19.5s\n",
      "[CV 1/3; 4/12] START metric=manhattan, n_neighbors=21, weights=uniform..........\n"
     ]
    },
    {
     "name": "stderr",
     "output_type": "stream",
     "text": [
      "C:\\Users\\vhcha\\anaconda3\\lib\\site-packages\\sklearn\\neighbors\\_classification.py:228: FutureWarning: Unlike other reduction functions (e.g. `skew`, `kurtosis`), the default behavior of `mode` typically preserves the axis it acts along. In SciPy 1.11.0, this behavior will change: the default value of `keepdims` will become False, the `axis` over which the statistic is taken will be eliminated, and the value None will no longer be accepted. Set `keepdims` to True or False to avoid this warning.\n",
      "  mode, _ = stats.mode(_y[neigh_ind, k], axis=1)\n"
     ]
    },
    {
     "name": "stdout",
     "output_type": "stream",
     "text": [
      "[CV 1/3; 4/12] END metric=manhattan, n_neighbors=21, weights=uniform;, score=0.778 total time=  24.1s\n",
      "[CV 2/3; 4/12] START metric=manhattan, n_neighbors=21, weights=uniform..........\n"
     ]
    },
    {
     "name": "stderr",
     "output_type": "stream",
     "text": [
      "C:\\Users\\vhcha\\anaconda3\\lib\\site-packages\\sklearn\\neighbors\\_classification.py:228: FutureWarning: Unlike other reduction functions (e.g. `skew`, `kurtosis`), the default behavior of `mode` typically preserves the axis it acts along. In SciPy 1.11.0, this behavior will change: the default value of `keepdims` will become False, the `axis` over which the statistic is taken will be eliminated, and the value None will no longer be accepted. Set `keepdims` to True or False to avoid this warning.\n",
      "  mode, _ = stats.mode(_y[neigh_ind, k], axis=1)\n"
     ]
    },
    {
     "name": "stdout",
     "output_type": "stream",
     "text": [
      "[CV 2/3; 4/12] END metric=manhattan, n_neighbors=21, weights=uniform;, score=0.785 total time=  23.0s\n",
      "[CV 3/3; 4/12] START metric=manhattan, n_neighbors=21, weights=uniform..........\n"
     ]
    },
    {
     "name": "stderr",
     "output_type": "stream",
     "text": [
      "C:\\Users\\vhcha\\anaconda3\\lib\\site-packages\\sklearn\\neighbors\\_classification.py:228: FutureWarning: Unlike other reduction functions (e.g. `skew`, `kurtosis`), the default behavior of `mode` typically preserves the axis it acts along. In SciPy 1.11.0, this behavior will change: the default value of `keepdims` will become False, the `axis` over which the statistic is taken will be eliminated, and the value None will no longer be accepted. Set `keepdims` to True or False to avoid this warning.\n",
      "  mode, _ = stats.mode(_y[neigh_ind, k], axis=1)\n"
     ]
    },
    {
     "name": "stdout",
     "output_type": "stream",
     "text": [
      "[CV 3/3; 4/12] END metric=manhattan, n_neighbors=21, weights=uniform;, score=0.779 total time=  21.5s\n",
      "[CV 1/3; 5/12] START metric=euclidean, n_neighbors=20, weights=distance.........\n",
      "[CV 1/3; 5/12] END metric=euclidean, n_neighbors=20, weights=distance;, score=0.774 total time=  14.1s\n",
      "[CV 2/3; 5/12] START metric=euclidean, n_neighbors=20, weights=distance.........\n",
      "[CV 2/3; 5/12] END metric=euclidean, n_neighbors=20, weights=distance;, score=0.781 total time=  12.5s\n",
      "[CV 3/3; 5/12] START metric=euclidean, n_neighbors=20, weights=distance.........\n",
      "[CV 3/3; 5/12] END metric=euclidean, n_neighbors=20, weights=distance;, score=0.775 total time=  14.1s\n",
      "[CV 1/3; 6/12] START metric=euclidean, n_neighbors=20, weights=uniform..........\n"
     ]
    },
    {
     "name": "stderr",
     "output_type": "stream",
     "text": [
      "C:\\Users\\vhcha\\anaconda3\\lib\\site-packages\\sklearn\\neighbors\\_classification.py:228: FutureWarning: Unlike other reduction functions (e.g. `skew`, `kurtosis`), the default behavior of `mode` typically preserves the axis it acts along. In SciPy 1.11.0, this behavior will change: the default value of `keepdims` will become False, the `axis` over which the statistic is taken will be eliminated, and the value None will no longer be accepted. Set `keepdims` to True or False to avoid this warning.\n",
      "  mode, _ = stats.mode(_y[neigh_ind, k], axis=1)\n"
     ]
    },
    {
     "name": "stdout",
     "output_type": "stream",
     "text": [
      "[CV 1/3; 6/12] END metric=euclidean, n_neighbors=20, weights=uniform;, score=0.774 total time=  14.5s\n",
      "[CV 2/3; 6/12] START metric=euclidean, n_neighbors=20, weights=uniform..........\n"
     ]
    },
    {
     "name": "stderr",
     "output_type": "stream",
     "text": [
      "C:\\Users\\vhcha\\anaconda3\\lib\\site-packages\\sklearn\\neighbors\\_classification.py:228: FutureWarning: Unlike other reduction functions (e.g. `skew`, `kurtosis`), the default behavior of `mode` typically preserves the axis it acts along. In SciPy 1.11.0, this behavior will change: the default value of `keepdims` will become False, the `axis` over which the statistic is taken will be eliminated, and the value None will no longer be accepted. Set `keepdims` to True or False to avoid this warning.\n",
      "  mode, _ = stats.mode(_y[neigh_ind, k], axis=1)\n"
     ]
    },
    {
     "name": "stdout",
     "output_type": "stream",
     "text": [
      "[CV 2/3; 6/12] END metric=euclidean, n_neighbors=20, weights=uniform;, score=0.780 total time=  14.7s\n",
      "[CV 3/3; 6/12] START metric=euclidean, n_neighbors=20, weights=uniform..........\n"
     ]
    },
    {
     "name": "stderr",
     "output_type": "stream",
     "text": [
      "C:\\Users\\vhcha\\anaconda3\\lib\\site-packages\\sklearn\\neighbors\\_classification.py:228: FutureWarning: Unlike other reduction functions (e.g. `skew`, `kurtosis`), the default behavior of `mode` typically preserves the axis it acts along. In SciPy 1.11.0, this behavior will change: the default value of `keepdims` will become False, the `axis` over which the statistic is taken will be eliminated, and the value None will no longer be accepted. Set `keepdims` to True or False to avoid this warning.\n",
      "  mode, _ = stats.mode(_y[neigh_ind, k], axis=1)\n"
     ]
    },
    {
     "name": "stdout",
     "output_type": "stream",
     "text": [
      "[CV 3/3; 6/12] END metric=euclidean, n_neighbors=20, weights=uniform;, score=0.775 total time=  13.7s\n",
      "[CV 1/3; 7/12] START metric=euclidean, n_neighbors=21, weights=distance.........\n",
      "[CV 1/3; 7/12] END metric=euclidean, n_neighbors=21, weights=distance;, score=0.776 total time=  14.2s\n",
      "[CV 2/3; 7/12] START metric=euclidean, n_neighbors=21, weights=distance.........\n",
      "[CV 2/3; 7/12] END metric=euclidean, n_neighbors=21, weights=distance;, score=0.781 total time=  13.9s\n",
      "[CV 3/3; 7/12] START metric=euclidean, n_neighbors=21, weights=distance.........\n",
      "[CV 3/3; 7/12] END metric=euclidean, n_neighbors=21, weights=distance;, score=0.775 total time=  14.2s\n",
      "[CV 1/3; 8/12] START metric=euclidean, n_neighbors=21, weights=uniform..........\n"
     ]
    },
    {
     "name": "stderr",
     "output_type": "stream",
     "text": [
      "C:\\Users\\vhcha\\anaconda3\\lib\\site-packages\\sklearn\\neighbors\\_classification.py:228: FutureWarning: Unlike other reduction functions (e.g. `skew`, `kurtosis`), the default behavior of `mode` typically preserves the axis it acts along. In SciPy 1.11.0, this behavior will change: the default value of `keepdims` will become False, the `axis` over which the statistic is taken will be eliminated, and the value None will no longer be accepted. Set `keepdims` to True or False to avoid this warning.\n",
      "  mode, _ = stats.mode(_y[neigh_ind, k], axis=1)\n"
     ]
    },
    {
     "name": "stdout",
     "output_type": "stream",
     "text": [
      "[CV 1/3; 8/12] END metric=euclidean, n_neighbors=21, weights=uniform;, score=0.778 total time=  13.6s\n",
      "[CV 2/3; 8/12] START metric=euclidean, n_neighbors=21, weights=uniform..........\n"
     ]
    },
    {
     "name": "stderr",
     "output_type": "stream",
     "text": [
      "C:\\Users\\vhcha\\anaconda3\\lib\\site-packages\\sklearn\\neighbors\\_classification.py:228: FutureWarning: Unlike other reduction functions (e.g. `skew`, `kurtosis`), the default behavior of `mode` typically preserves the axis it acts along. In SciPy 1.11.0, this behavior will change: the default value of `keepdims` will become False, the `axis` over which the statistic is taken will be eliminated, and the value None will no longer be accepted. Set `keepdims` to True or False to avoid this warning.\n",
      "  mode, _ = stats.mode(_y[neigh_ind, k], axis=1)\n"
     ]
    },
    {
     "name": "stdout",
     "output_type": "stream",
     "text": [
      "[CV 2/3; 8/12] END metric=euclidean, n_neighbors=21, weights=uniform;, score=0.782 total time=  14.6s\n",
      "[CV 3/3; 8/12] START metric=euclidean, n_neighbors=21, weights=uniform..........\n"
     ]
    },
    {
     "name": "stderr",
     "output_type": "stream",
     "text": [
      "C:\\Users\\vhcha\\anaconda3\\lib\\site-packages\\sklearn\\neighbors\\_classification.py:228: FutureWarning: Unlike other reduction functions (e.g. `skew`, `kurtosis`), the default behavior of `mode` typically preserves the axis it acts along. In SciPy 1.11.0, this behavior will change: the default value of `keepdims` will become False, the `axis` over which the statistic is taken will be eliminated, and the value None will no longer be accepted. Set `keepdims` to True or False to avoid this warning.\n",
      "  mode, _ = stats.mode(_y[neigh_ind, k], axis=1)\n"
     ]
    },
    {
     "name": "stdout",
     "output_type": "stream",
     "text": [
      "[CV 3/3; 8/12] END metric=euclidean, n_neighbors=21, weights=uniform;, score=0.776 total time=  14.9s\n",
      "[CV 1/3; 9/12] START metric=minkowski, n_neighbors=20, weights=distance.........\n",
      "[CV 1/3; 9/12] END metric=minkowski, n_neighbors=20, weights=distance;, score=0.774 total time=  16.0s\n",
      "[CV 2/3; 9/12] START metric=minkowski, n_neighbors=20, weights=distance.........\n",
      "[CV 2/3; 9/12] END metric=minkowski, n_neighbors=20, weights=distance;, score=0.781 total time=  13.5s\n",
      "[CV 3/3; 9/12] START metric=minkowski, n_neighbors=20, weights=distance.........\n",
      "[CV 3/3; 9/12] END metric=minkowski, n_neighbors=20, weights=distance;, score=0.775 total time=  13.6s\n",
      "[CV 1/3; 10/12] START metric=minkowski, n_neighbors=20, weights=uniform.........\n"
     ]
    },
    {
     "name": "stderr",
     "output_type": "stream",
     "text": [
      "C:\\Users\\vhcha\\anaconda3\\lib\\site-packages\\sklearn\\neighbors\\_classification.py:228: FutureWarning: Unlike other reduction functions (e.g. `skew`, `kurtosis`), the default behavior of `mode` typically preserves the axis it acts along. In SciPy 1.11.0, this behavior will change: the default value of `keepdims` will become False, the `axis` over which the statistic is taken will be eliminated, and the value None will no longer be accepted. Set `keepdims` to True or False to avoid this warning.\n",
      "  mode, _ = stats.mode(_y[neigh_ind, k], axis=1)\n"
     ]
    },
    {
     "name": "stdout",
     "output_type": "stream",
     "text": [
      "[CV 1/3; 10/12] END metric=minkowski, n_neighbors=20, weights=uniform;, score=0.774 total time=  14.1s\n",
      "[CV 2/3; 10/12] START metric=minkowski, n_neighbors=20, weights=uniform.........\n"
     ]
    },
    {
     "name": "stderr",
     "output_type": "stream",
     "text": [
      "C:\\Users\\vhcha\\anaconda3\\lib\\site-packages\\sklearn\\neighbors\\_classification.py:228: FutureWarning: Unlike other reduction functions (e.g. `skew`, `kurtosis`), the default behavior of `mode` typically preserves the axis it acts along. In SciPy 1.11.0, this behavior will change: the default value of `keepdims` will become False, the `axis` over which the statistic is taken will be eliminated, and the value None will no longer be accepted. Set `keepdims` to True or False to avoid this warning.\n",
      "  mode, _ = stats.mode(_y[neigh_ind, k], axis=1)\n"
     ]
    },
    {
     "name": "stdout",
     "output_type": "stream",
     "text": [
      "[CV 2/3; 10/12] END metric=minkowski, n_neighbors=20, weights=uniform;, score=0.780 total time=  16.2s\n",
      "[CV 3/3; 10/12] START metric=minkowski, n_neighbors=20, weights=uniform.........\n"
     ]
    },
    {
     "name": "stderr",
     "output_type": "stream",
     "text": [
      "C:\\Users\\vhcha\\anaconda3\\lib\\site-packages\\sklearn\\neighbors\\_classification.py:228: FutureWarning: Unlike other reduction functions (e.g. `skew`, `kurtosis`), the default behavior of `mode` typically preserves the axis it acts along. In SciPy 1.11.0, this behavior will change: the default value of `keepdims` will become False, the `axis` over which the statistic is taken will be eliminated, and the value None will no longer be accepted. Set `keepdims` to True or False to avoid this warning.\n",
      "  mode, _ = stats.mode(_y[neigh_ind, k], axis=1)\n"
     ]
    },
    {
     "name": "stdout",
     "output_type": "stream",
     "text": [
      "[CV 3/3; 10/12] END metric=minkowski, n_neighbors=20, weights=uniform;, score=0.775 total time=  13.7s\n",
      "[CV 1/3; 11/12] START metric=minkowski, n_neighbors=21, weights=distance........\n",
      "[CV 1/3; 11/12] END metric=minkowski, n_neighbors=21, weights=distance;, score=0.776 total time=  13.5s\n",
      "[CV 2/3; 11/12] START metric=minkowski, n_neighbors=21, weights=distance........\n",
      "[CV 2/3; 11/12] END metric=minkowski, n_neighbors=21, weights=distance;, score=0.781 total time=  13.8s\n",
      "[CV 3/3; 11/12] START metric=minkowski, n_neighbors=21, weights=distance........\n",
      "[CV 3/3; 11/12] END metric=minkowski, n_neighbors=21, weights=distance;, score=0.775 total time=  13.7s\n",
      "[CV 1/3; 12/12] START metric=minkowski, n_neighbors=21, weights=uniform.........\n"
     ]
    },
    {
     "name": "stderr",
     "output_type": "stream",
     "text": [
      "C:\\Users\\vhcha\\anaconda3\\lib\\site-packages\\sklearn\\neighbors\\_classification.py:228: FutureWarning: Unlike other reduction functions (e.g. `skew`, `kurtosis`), the default behavior of `mode` typically preserves the axis it acts along. In SciPy 1.11.0, this behavior will change: the default value of `keepdims` will become False, the `axis` over which the statistic is taken will be eliminated, and the value None will no longer be accepted. Set `keepdims` to True or False to avoid this warning.\n",
      "  mode, _ = stats.mode(_y[neigh_ind, k], axis=1)\n"
     ]
    },
    {
     "name": "stdout",
     "output_type": "stream",
     "text": [
      "[CV 1/3; 12/12] END metric=minkowski, n_neighbors=21, weights=uniform;, score=0.778 total time=  14.0s\n",
      "[CV 2/3; 12/12] START metric=minkowski, n_neighbors=21, weights=uniform.........\n"
     ]
    },
    {
     "name": "stderr",
     "output_type": "stream",
     "text": [
      "C:\\Users\\vhcha\\anaconda3\\lib\\site-packages\\sklearn\\neighbors\\_classification.py:228: FutureWarning: Unlike other reduction functions (e.g. `skew`, `kurtosis`), the default behavior of `mode` typically preserves the axis it acts along. In SciPy 1.11.0, this behavior will change: the default value of `keepdims` will become False, the `axis` over which the statistic is taken will be eliminated, and the value None will no longer be accepted. Set `keepdims` to True or False to avoid this warning.\n",
      "  mode, _ = stats.mode(_y[neigh_ind, k], axis=1)\n"
     ]
    },
    {
     "name": "stdout",
     "output_type": "stream",
     "text": [
      "[CV 2/3; 12/12] END metric=minkowski, n_neighbors=21, weights=uniform;, score=0.782 total time=  13.9s\n",
      "[CV 3/3; 12/12] START metric=minkowski, n_neighbors=21, weights=uniform.........\n"
     ]
    },
    {
     "name": "stderr",
     "output_type": "stream",
     "text": [
      "C:\\Users\\vhcha\\anaconda3\\lib\\site-packages\\sklearn\\neighbors\\_classification.py:228: FutureWarning: Unlike other reduction functions (e.g. `skew`, `kurtosis`), the default behavior of `mode` typically preserves the axis it acts along. In SciPy 1.11.0, this behavior will change: the default value of `keepdims` will become False, the `axis` over which the statistic is taken will be eliminated, and the value None will no longer be accepted. Set `keepdims` to True or False to avoid this warning.\n",
      "  mode, _ = stats.mode(_y[neigh_ind, k], axis=1)\n"
     ]
    },
    {
     "name": "stdout",
     "output_type": "stream",
     "text": [
      "[CV 3/3; 12/12] END metric=minkowski, n_neighbors=21, weights=uniform;, score=0.776 total time=  14.3s\n"
     ]
    },
    {
     "data": {
      "text/plain": [
       "GridSearchCV(cv=3, estimator=KNeighborsClassifier(),\n",
       "             param_grid={'metric': ['manhattan', 'euclidean', 'minkowski'],\n",
       "                         'n_neighbors': range(20, 22),\n",
       "                         'weights': ['distance', 'uniform']},\n",
       "             verbose=10)"
      ]
     },
     "execution_count": 88,
     "metadata": {},
     "output_type": "execute_result"
    }
   ],
   "source": [
    "#Treinamento com o grid. \n",
    "grid_search62.fit(X6_train_scaled, y6_train)\n"
   ]
  },
  {
   "cell_type": "code",
   "execution_count": 90,
   "id": "c2150801",
   "metadata": {},
   "outputs": [
    {
     "name": "stderr",
     "output_type": "stream",
     "text": [
      "C:\\Users\\vhcha\\anaconda3\\lib\\site-packages\\sklearn\\neighbors\\_classification.py:228: FutureWarning: Unlike other reduction functions (e.g. `skew`, `kurtosis`), the default behavior of `mode` typically preserves the axis it acts along. In SciPy 1.11.0, this behavior will change: the default value of `keepdims` will become False, the `axis` over which the statistic is taken will be eliminated, and the value None will no longer be accepted. Set `keepdims` to True or False to avoid this warning.\n",
      "  mode, _ = stats.mode(_y[neigh_ind, k], axis=1)\n"
     ]
    },
    {
     "name": "stdout",
     "output_type": "stream",
     "text": [
      "KNeighborsClassifier(metric='manhattan', n_neighbors=21)\n",
      "Accuracy: 0.7768632980293143\n"
     ]
    }
   ],
   "source": [
    "# Obter o melhor modelo encontrado pelo GridSearchCV\n",
    "best_model = grid_search62.best_estimator_\n",
    "\n",
    "\n",
    "y62_pred = best_model.predict(X6_test_scaled)\n",
    "\n",
    "\n",
    "accuracy62 = accuracy_score(y6_test, y62_pred)\n",
    "print(best_model)\n",
    "print('Accuracy:', accuracy62)"
   ]
  },
  {
   "cell_type": "markdown",
   "id": "5b351a8d",
   "metadata": {},
   "source": [
    "\n",
    "## Esse modelo (KNN) também atende ao problema proposto. "
   ]
  },
  {
   "cell_type": "markdown",
   "id": "2b8bcc9d",
   "metadata": {},
   "source": [
    "## 4. É possível colocar em produção? "
   ]
  },
  {
   "cell_type": "markdown",
   "id": "85b7d448",
   "metadata": {},
   "source": [
    "Sim, como comentado na apresentação. E Por se tratar de uma proposta que tem um cunho subjetivo e como explicado.\n",
    "Pode vir a ser interessante a empresa ter um modelo que com 75% de acurácia aproximadamente."
   ]
  },
  {
   "cell_type": "markdown",
   "id": "32d3ba67",
   "metadata": {},
   "source": [
    "## 5. Possíveis melhorias:\n",
    " • Aplicar outros métodos de otimização de hiperparâmetros;\n",
    " \n",
    " • Subdividir em mais categorias, ex.: Muito popular, popular, neutro, não popular;\n",
    " \n",
    " • Procurar outros datasets que envolvam os gêneros musicais, para assim oferecer a festivais ninchados como: Hellfest (Rock/Metal), Glastronbury (Pop/Rock/Indie), Tomorrowland(eletrônica), \n",
    "Festival International De Jazz De Montreal"
   ]
  },
  {
   "cell_type": "code",
   "execution_count": null,
   "id": "c4fd4130",
   "metadata": {},
   "outputs": [],
   "source": []
  }
 ],
 "metadata": {
  "kernelspec": {
   "display_name": "Python 3 (ipykernel)",
   "language": "python",
   "name": "python3"
  },
  "language_info": {
   "codemirror_mode": {
    "name": "ipython",
    "version": 3
   },
   "file_extension": ".py",
   "mimetype": "text/x-python",
   "name": "python",
   "nbconvert_exporter": "python",
   "pygments_lexer": "ipython3",
   "version": "3.9.13"
  }
 },
 "nbformat": 4,
 "nbformat_minor": 5
}
